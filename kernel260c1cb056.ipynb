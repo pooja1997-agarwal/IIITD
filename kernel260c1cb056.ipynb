{
 "cells": [
  {
   "cell_type": "code",
   "execution_count": 1,
   "metadata": {
    "_cell_guid": "b1076dfc-b9ad-4769-8c92-a6c4dae69d19",
    "_uuid": "8f2839f25d086af736a60e9eeb907d3b93b6e0e5"
   },
   "outputs": [
    {
     "name": "stdout",
     "output_type": "stream",
     "text": [
      "['train_label.pkl', 'train_image.pkl', 'test_image.pkl']\n"
     ]
    }
   ],
   "source": [
    "# This Python 3 environment comes with many helpful analytics libraries installed\n",
    "# It is defined by the kaggle/python docker image: https://github.com/kaggle/docker-python\n",
    "# For example, here's several helpful packages to load in \n",
    "\n",
    "import numpy as np # linear algebra\n",
    "import pandas as pd # data processing, CSV file I/O (e.g. pd.read_csv)\n",
    "\n",
    "# Input data files are available in the \"../input/\" directory.\n",
    "# For example, running this (by clicking run or pressing Shift+Enter) will list the files in the input directory\n",
    "\n",
    "import os\n",
    "print(os.listdir(\"../input\"))\n",
    "\n",
    "# Any results you write to the current directory are saved as output."
   ]
  },
  {
   "cell_type": "code",
   "execution_count": 2,
   "metadata": {
    "_cell_guid": "79c7e3d0-c299-4dcb-8224-4455121ee9b0",
    "_uuid": "d629ff2d2480ee46fbb7e2d37f6b5fab8052498a"
   },
   "outputs": [],
   "source": [
    "import pickle\n",
    "\n",
    "\n",
    "with open('../input/train_image.pkl', 'rb') as f:\n",
    "    train = pickle.load(f)"
   ]
  },
  {
   "cell_type": "code",
   "execution_count": 3,
   "metadata": {},
   "outputs": [
    {
     "data": {
      "text/plain": [
       "8000"
      ]
     },
     "execution_count": 3,
     "metadata": {},
     "output_type": "execute_result"
    }
   ],
   "source": [
    "len(train)"
   ]
  },
  {
   "cell_type": "code",
   "execution_count": 4,
   "metadata": {},
   "outputs": [],
   "source": [
    "with open('../input/train_label.pkl', 'rb') as f:\n",
    "    label = pickle.load(f)"
   ]
  },
  {
   "cell_type": "code",
   "execution_count": 5,
   "metadata": {},
   "outputs": [],
   "source": [
    "import numpy as np\n",
    "import pandas as pd"
   ]
  },
  {
   "cell_type": "code",
   "execution_count": 6,
   "metadata": {},
   "outputs": [],
   "source": [
    "label = np.array(label)"
   ]
  },
  {
   "cell_type": "code",
   "execution_count": 7,
   "metadata": {},
   "outputs": [
    {
     "data": {
      "text/plain": [
       "8000"
      ]
     },
     "execution_count": 7,
     "metadata": {},
     "output_type": "execute_result"
    }
   ],
   "source": [
    "len(label)"
   ]
  },
  {
   "cell_type": "code",
   "execution_count": 8,
   "metadata": {},
   "outputs": [
    {
     "data": {
      "text/plain": [
       "array([0, 2, 3, 6])"
      ]
     },
     "execution_count": 8,
     "metadata": {},
     "output_type": "execute_result"
    }
   ],
   "source": [
    "np.unique(label)"
   ]
  },
  {
   "cell_type": "code",
   "execution_count": 9,
   "metadata": {},
   "outputs": [],
   "source": [
    "train = np.array(train)"
   ]
  },
  {
   "cell_type": "code",
   "execution_count": 10,
   "metadata": {},
   "outputs": [
    {
     "data": {
      "text/plain": [
       "array([  0,   1,   2,   3,   4,   5,   6,   7,   8,   9,  10,  11,  12,\n",
       "        13,  14,  15,  16,  17,  18,  19,  20,  21,  22,  23,  24,  25,\n",
       "        26,  27,  28,  29,  30,  31,  32,  33,  34,  35,  36,  37,  38,\n",
       "        39,  40,  41,  42,  43,  44,  45,  46,  47,  48,  49,  50,  51,\n",
       "        52,  53,  54,  55,  56,  57,  58,  59,  60,  61,  62,  63,  64,\n",
       "        65,  66,  67,  68,  69,  70,  71,  72,  73,  74,  75,  76,  77,\n",
       "        78,  79,  80,  81,  82,  83,  84,  85,  86,  87,  88,  89,  90,\n",
       "        91,  92,  93,  94,  95,  96,  97,  98,  99, 100, 101, 102, 103,\n",
       "       104, 105, 106, 107, 108, 109, 110, 111, 112, 113, 114, 115, 116,\n",
       "       117, 118, 119, 120, 121, 122, 123, 124, 125, 126, 127, 128, 129,\n",
       "       130, 131, 132, 133, 134, 135, 136, 137, 138, 139, 140, 141, 142,\n",
       "       143, 144, 145, 146, 147, 148, 149, 150, 151, 152, 153, 154, 155,\n",
       "       156, 157, 158, 159, 160, 161, 162, 163, 164, 165, 166, 167, 168,\n",
       "       169, 170, 171, 172, 173, 174, 175, 176, 177, 178, 179, 180, 181,\n",
       "       182, 183, 184, 185, 186, 187, 188, 189, 190, 191, 192, 193, 194,\n",
       "       195, 196, 197, 198, 199, 200, 201, 202, 203, 204, 205, 206, 207,\n",
       "       208, 209, 210, 211, 212, 213, 214, 215, 216, 217, 218, 219, 220,\n",
       "       221, 222, 223, 224, 225, 226, 227, 228, 229, 230, 231, 232, 233,\n",
       "       234, 235, 236, 237, 238, 239, 240, 241, 242, 243, 244, 245, 246,\n",
       "       247, 248, 249, 250, 251, 252, 253, 254, 255])"
      ]
     },
     "execution_count": 10,
     "metadata": {},
     "output_type": "execute_result"
    }
   ],
   "source": [
    "np.unique(train)"
   ]
  },
  {
   "cell_type": "code",
   "execution_count": 11,
   "metadata": {},
   "outputs": [
    {
     "data": {
      "text/plain": [
       "(8000, 784)"
      ]
     },
     "execution_count": 11,
     "metadata": {},
     "output_type": "execute_result"
    }
   ],
   "source": [
    "train.shape"
   ]
  },
  {
   "cell_type": "code",
   "execution_count": 12,
   "metadata": {},
   "outputs": [],
   "source": [
    "with open('../input/test_image.pkl', 'rb') as f:\n",
    "    test = pickle.load(f)"
   ]
  },
  {
   "cell_type": "code",
   "execution_count": 13,
   "metadata": {},
   "outputs": [],
   "source": [
    "test = np.array(test)"
   ]
  },
  {
   "cell_type": "code",
   "execution_count": 14,
   "metadata": {},
   "outputs": [
    {
     "data": {
      "text/plain": [
       "(2000, 784)"
      ]
     },
     "execution_count": 14,
     "metadata": {},
     "output_type": "execute_result"
    }
   ],
   "source": [
    "test.shape"
   ]
  },
  {
   "cell_type": "code",
   "execution_count": 15,
   "metadata": {},
   "outputs": [],
   "source": [
    "import os\n",
    "os.environ[\"CUDA_DEVICE_ORDER\"]=\"PCI_BUS_ID\"\n",
    "os.environ[\"CUDA_VISIBLE_DEVICES\"]=\"0\" #model will be trained on GPU 0"
   ]
  },
  {
   "cell_type": "code",
   "execution_count": 16,
   "metadata": {},
   "outputs": [
    {
     "name": "stderr",
     "output_type": "stream",
     "text": [
      "Using TensorFlow backend.\n"
     ]
    }
   ],
   "source": [
    "import keras\n",
    "from matplotlib import pyplot as plt\n",
    "import numpy as np\n",
    "import gzip\n",
    "%matplotlib inline\n",
    "from keras.models import Model\n",
    "from keras.optimizers import RMSprop\n",
    "from keras.layers import Input,Dense,Flatten,Dropout,merge,Reshape,Conv2D,MaxPooling2D,UpSampling2D,Conv2DTranspose\n",
    "from keras.layers.normalization import BatchNormalization\n",
    "from keras.models import Model,Sequential\n",
    "from keras.callbacks import ModelCheckpoint\n",
    "from keras.optimizers import Adadelta, RMSprop,SGD,Adam\n",
    "from keras import regularizers\n",
    "from keras import backend as K\n",
    "from keras.utils import to_categorical"
   ]
  },
  {
   "cell_type": "code",
   "execution_count": 17,
   "metadata": {},
   "outputs": [],
   "source": [
    "train = train.reshape(8000, 28,28)"
   ]
  },
  {
   "cell_type": "code",
   "execution_count": 18,
   "metadata": {},
   "outputs": [],
   "source": [
    "test = test.reshape(2000,28,28)"
   ]
  },
  {
   "cell_type": "code",
   "execution_count": 19,
   "metadata": {},
   "outputs": [],
   "source": [
    "label_dict = {\n",
    " 0: 'A',\n",
    " 2: 'C',\n",
    " 3: 'D',\n",
    " 6: 'G',\n",
    "}"
   ]
  },
  {
   "cell_type": "code",
   "execution_count": 20,
   "metadata": {},
   "outputs": [
    {
     "data": {
      "text/plain": [
       "<matplotlib.image.AxesImage at 0x7fc2df5d8b70>"
      ]
     },
     "execution_count": 20,
     "metadata": {},
     "output_type": "execute_result"
    },
    {
     "data": {
      "image/png": "[encoded data removed]",
      "text/plain": [
       "<Figure size 360x360 with 2 Axes>"
      ]
     },
     "metadata": {},
     "output_type": "display_data"
    }
   ],
   "source": [
    "plt.figure(figsize=[5,5])\n",
    "\n",
    "# Display the first image in training data\n",
    "plt.subplot(121)\n",
    "curr_img = np.reshape(train[10], (28,28))\n",
    "curr_lbl = label[10]\n",
    "plt.imshow(curr_img, cmap='gray')\n",
    "plt.title(\"(Label: \" + str(label_dict[curr_lbl]) + \")\")\n",
    "\n",
    "# Display the first image in testing data\n",
    "plt.subplot(122)\n",
    "curr_img = np.reshape(test[10], (28,28))\n",
    "#curr_lbl = label[10]\n",
    "plt.imshow(curr_img, cmap='gray')\n",
    "#plt.title(\"(Label: \" + str(label_dict[curr_lbl]) + \")\")"
   ]
  },
  {
   "cell_type": "code",
   "execution_count": 21,
   "metadata": {},
   "outputs": [
    {
     "data": {
      "text/plain": [
       "((8000, 28, 28, 1), (2000, 28, 28, 1))"
      ]
     },
     "execution_count": 21,
     "metadata": {},
     "output_type": "execute_result"
    }
   ],
   "source": [
    "train_data = train.reshape(-1, 28,28, 1)\n",
    "test_data = test.reshape(-1, 28,28, 1)\n",
    "train_data.shape, test_data.shape"
   ]
  },
  {
   "cell_type": "code",
   "execution_count": 22,
   "metadata": {},
   "outputs": [
    {
     "data": {
      "text/plain": [
       "(dtype('int64'), dtype('int64'))"
      ]
     },
     "execution_count": 22,
     "metadata": {},
     "output_type": "execute_result"
    }
   ],
   "source": [
    "train_data.dtype, test_data.dtype"
   ]
  },
  {
   "cell_type": "code",
   "execution_count": 23,
   "metadata": {},
   "outputs": [
    {
     "data": {
      "text/plain": [
       "(255, 255)"
      ]
     },
     "execution_count": 23,
     "metadata": {},
     "output_type": "execute_result"
    }
   ],
   "source": [
    "np.max(train_data), np.max(test_data)"
   ]
  },
  {
   "cell_type": "code",
   "execution_count": 24,
   "metadata": {},
   "outputs": [],
   "source": [
    "train_data = train_data / np.max(train_data)\n",
    "test_data = test_data / np.max(test_data)"
   ]
  },
  {
   "cell_type": "code",
   "execution_count": 25,
   "metadata": {},
   "outputs": [
    {
     "data": {
      "text/plain": [
       "(1.0, 1.0)"
      ]
     },
     "execution_count": 25,
     "metadata": {},
     "output_type": "execute_result"
    }
   ],
   "source": [
    "np.max(train_data), np.max(test_data)"
   ]
  },
  {
   "cell_type": "code",
   "execution_count": 26,
   "metadata": {},
   "outputs": [],
   "source": [
    "from sklearn.model_selection import train_test_split\n",
    "train_X,valid_X,train_ground,valid_ground = train_test_split(train_data,\n",
    "                                                             train_data,\n",
    "                                                             test_size=0.2,\n",
    "                                                             random_state=13)"
   ]
  },
  {
   "cell_type": "code",
   "execution_count": 73,
   "metadata": {},
   "outputs": [],
   "source": [
    "batch_size = 64\n",
    "epochs = 200\n",
    "inChannel = 1\n",
    "x, y = 28, 28\n",
    "input_img = Input(shape = (x, y, inChannel))\n",
    "num_classes = 7"
   ]
  },
  {
   "cell_type": "code",
   "execution_count": 74,
   "metadata": {},
   "outputs": [],
   "source": [
    "def encoder(input_img):\n",
    "    #encoder\n",
    "    #input = 28 x 28 x 1 (wide and thin)\n",
    "    conv1 = Conv2D(32, (3, 3), activation='relu', padding='same')(input_img) #28 x 28 x 32\n",
    "    conv1 = BatchNormalization()(conv1)\n",
    "    conv1 = Conv2D(32, (3, 3), activation='relu', padding='same')(conv1)\n",
    "    conv1 = BatchNormalization()(conv1)\n",
    "    pool1 = MaxPooling2D(pool_size=(2, 2))(conv1) #14 x 14 x 32\n",
    "    conv2 = Conv2D(64, (3, 3), activation='relu', padding='same')(pool1) #14 x 14 x 64\n",
    "    conv2 = BatchNormalization()(conv2)\n",
    "    conv2 = Conv2D(64, (3, 3), activation='relu', padding='same')(conv2)\n",
    "    conv2 = BatchNormalization()(conv2)\n",
    "    pool2 = MaxPooling2D(pool_size=(2, 2))(conv2) #7 x 7 x 64\n",
    "    conv3 = Conv2D(128, (3, 3), activation='relu', padding='same')(pool2) #7 x 7 x 128 (small and thick)\n",
    "    conv3 = BatchNormalization()(conv3)\n",
    "    conv3 = Conv2D(128, (3, 3), activation='relu', padding='same')(conv3)\n",
    "    conv3 = BatchNormalization()(conv3)\n",
    "    conv4 = Conv2D(256, (3, 3), activation='relu', padding='same')(conv3) #7 x 7 x 256 (small and thick)\n",
    "    conv4 = BatchNormalization()(conv4)\n",
    "    conv4 = Conv2D(256, (3, 3), activation='relu', padding='same')(conv4)\n",
    "    conv4 = BatchNormalization()(conv4)\n",
    "    return conv4\n",
    "\n",
    "def decoder(conv4):    \n",
    "    #decoder\n",
    "    conv5 = Conv2D(128, (3, 3), activation='relu', padding='same')(conv4) #7 x 7 x 128\n",
    "    conv5 = BatchNormalization()(conv5)\n",
    "    conv5 = Conv2D(128, (3, 3), activation='relu', padding='same')(conv5)\n",
    "    conv5 = BatchNormalization()(conv5)\n",
    "    conv6 = Conv2D(64, (3, 3), activation='relu', padding='same')(conv5) #7 x 7 x 64\n",
    "    conv6 = BatchNormalization()(conv6)\n",
    "    conv6 = Conv2D(64, (3, 3), activation='relu', padding='same')(conv6)\n",
    "    conv6 = BatchNormalization()(conv6)\n",
    "    up1 = UpSampling2D((2,2))(conv6) #14 x 14 x 64\n",
    "    conv7 = Conv2D(32, (3, 3), activation='relu', padding='same')(up1) # 14 x 14 x 32\n",
    "    conv7 = BatchNormalization()(conv7)\n",
    "    conv7 = Conv2D(32, (3, 3), activation='relu', padding='same')(conv7)\n",
    "    conv7 = BatchNormalization()(conv7)\n",
    "    up2 = UpSampling2D((2,2))(conv7) # 28 x 28 x 32\n",
    "    decoded = Conv2D(1, (3, 3), activation='sigmoid', padding='same')(up2) # 28 x 28 x 1\n",
    "    return decoded"
   ]
  },
  {
   "cell_type": "code",
   "execution_count": 75,
   "metadata": {},
   "outputs": [],
   "source": [
    "autoencoder = Model(input_img, decoder(encoder(input_img)))\n",
    "autoencoder.compile(loss='mean_squared_error', optimizer = RMSprop())"
   ]
  },
  {
   "cell_type": "code",
   "execution_count": 76,
   "metadata": {},
   "outputs": [
    {
     "name": "stdout",
     "output_type": "stream",
     "text": [
      "_________________________________________________________________\n",
      "Layer (type)                 Output Shape              Param #   \n",
      "=================================================================\n",
      "input_3 (InputLayer)         (None, 28, 28, 1)         0         \n",
      "_________________________________________________________________\n",
      "conv2d_39 (Conv2D)           (None, 28, 28, 32)        320       \n",
      "_________________________________________________________________\n",
      "batch_normalization_37 (Batc (None, 28, 28, 32)        128       \n",
      "_________________________________________________________________\n",
      "conv2d_40 (Conv2D)           (None, 28, 28, 32)        9248      \n",
      "_________________________________________________________________\n",
      "batch_normalization_38 (Batc (None, 28, 28, 32)        128       \n",
      "_________________________________________________________________\n",
      "max_pooling2d_7 (MaxPooling2 (None, 14, 14, 32)        0         \n",
      "_________________________________________________________________\n",
      "conv2d_41 (Conv2D)           (None, 14, 14, 64)        18496     \n",
      "_________________________________________________________________\n",
      "batch_normalization_39 (Batc (None, 14, 14, 64)        256       \n",
      "_________________________________________________________________\n",
      "conv2d_42 (Conv2D)           (None, 14, 14, 64)        36928     \n",
      "_________________________________________________________________\n",
      "batch_normalization_40 (Batc (None, 14, 14, 64)        256       \n",
      "_________________________________________________________________\n",
      "max_pooling2d_8 (MaxPooling2 (None, 7, 7, 64)          0         \n",
      "_________________________________________________________________\n",
      "conv2d_43 (Conv2D)           (None, 7, 7, 128)         73856     \n",
      "_________________________________________________________________\n",
      "batch_normalization_41 (Batc (None, 7, 7, 128)         512       \n",
      "_________________________________________________________________\n",
      "conv2d_44 (Conv2D)           (None, 7, 7, 128)         147584    \n",
      "_________________________________________________________________\n",
      "batch_normalization_42 (Batc (None, 7, 7, 128)         512       \n",
      "_________________________________________________________________\n",
      "conv2d_45 (Conv2D)           (None, 7, 7, 256)         295168    \n",
      "_________________________________________________________________\n",
      "batch_normalization_43 (Batc (None, 7, 7, 256)         1024      \n",
      "_________________________________________________________________\n",
      "conv2d_46 (Conv2D)           (None, 7, 7, 256)         590080    \n",
      "_________________________________________________________________\n",
      "batch_normalization_44 (Batc (None, 7, 7, 256)         1024      \n",
      "_________________________________________________________________\n",
      "conv2d_47 (Conv2D)           (None, 7, 7, 128)         295040    \n",
      "_________________________________________________________________\n",
      "batch_normalization_45 (Batc (None, 7, 7, 128)         512       \n",
      "_________________________________________________________________\n",
      "conv2d_48 (Conv2D)           (None, 7, 7, 128)         147584    \n",
      "_________________________________________________________________\n",
      "batch_normalization_46 (Batc (None, 7, 7, 128)         512       \n",
      "_________________________________________________________________\n",
      "conv2d_49 (Conv2D)           (None, 7, 7, 64)          73792     \n",
      "_________________________________________________________________\n",
      "batch_normalization_47 (Batc (None, 7, 7, 64)          256       \n",
      "_________________________________________________________________\n",
      "conv2d_50 (Conv2D)           (None, 7, 7, 64)          36928     \n",
      "_________________________________________________________________\n",
      "batch_normalization_48 (Batc (None, 7, 7, 64)          256       \n",
      "_________________________________________________________________\n",
      "up_sampling2d_5 (UpSampling2 (None, 14, 14, 64)        0         \n",
      "_________________________________________________________________\n",
      "conv2d_51 (Conv2D)           (None, 14, 14, 32)        18464     \n",
      "_________________________________________________________________\n",
      "batch_normalization_49 (Batc (None, 14, 14, 32)        128       \n",
      "_________________________________________________________________\n",
      "conv2d_52 (Conv2D)           (None, 14, 14, 32)        9248      \n",
      "_________________________________________________________________\n",
      "batch_normalization_50 (Batc (None, 14, 14, 32)        128       \n",
      "_________________________________________________________________\n",
      "up_sampling2d_6 (UpSampling2 (None, 28, 28, 32)        0         \n",
      "_________________________________________________________________\n",
      "conv2d_53 (Conv2D)           (None, 28, 28, 1)         289       \n",
      "=================================================================\n",
      "Total params: 1,758,657\n",
      "Trainable params: 1,755,841\n",
      "Non-trainable params: 2,816\n",
      "_________________________________________________________________\n"
     ]
    }
   ],
   "source": [
    "autoencoder.summary()"
   ]
  },
  {
   "cell_type": "code",
   "execution_count": 77,
   "metadata": {},
   "outputs": [
    {
     "name": "stdout",
     "output_type": "stream",
     "text": [
      "Train on 6400 samples, validate on 1600 samples\n",
      "Epoch 1/200\n",
      "6400/6400 [==============================] - 6s 933us/step - loss: 0.0442 - val_loss: 0.0780\n",
      "Epoch 2/200\n",
      "6400/6400 [==============================] - 2s 374us/step - loss: 0.0222 - val_loss: 0.1277\n",
      "Epoch 3/200\n",
      "6400/6400 [==============================] - 2s 379us/step - loss: 0.0167 - val_loss: 0.0276\n",
      "Epoch 4/200\n",
      "6400/6400 [==============================] - 2s 373us/step - loss: 0.0140 - val_loss: 0.0235\n",
      "Epoch 5/200\n",
      "6400/6400 [==============================] - 2s 374us/step - loss: 0.0123 - val_loss: 0.0181\n",
      "Epoch 6/200\n",
      "6400/6400 [==============================] - 2s 372us/step - loss: 0.0111 - val_loss: 0.0129\n",
      "Epoch 7/200\n",
      "6400/6400 [==============================] - 2s 378us/step - loss: 0.0103 - val_loss: 0.0152\n",
      "Epoch 8/200\n",
      "6400/6400 [==============================] - 2s 375us/step - loss: 0.0091 - val_loss: 0.0139\n",
      "Epoch 9/200\n",
      "6400/6400 [==============================] - 2s 378us/step - loss: 0.0089 - val_loss: 0.0101\n",
      "Epoch 10/200\n",
      "6400/6400 [==============================] - 2s 373us/step - loss: 0.0082 - val_loss: 0.0097\n",
      "Epoch 11/200\n",
      "6400/6400 [==============================] - 2s 375us/step - loss: 0.0088 - val_loss: 0.0132\n",
      "Epoch 12/200\n",
      "6400/6400 [==============================] - 2s 378us/step - loss: 0.0075 - val_loss: 0.0122\n",
      "Epoch 13/200\n",
      "6400/6400 [==============================] - 2s 377us/step - loss: 0.0073 - val_loss: 0.0086\n",
      "Epoch 14/200\n",
      "6400/6400 [==============================] - 2s 378us/step - loss: 0.0071 - val_loss: 0.0080\n",
      "Epoch 15/200\n",
      "6400/6400 [==============================] - 2s 375us/step - loss: 0.0069 - val_loss: 0.0073\n",
      "Epoch 16/200\n",
      "6400/6400 [==============================] - 2s 379us/step - loss: 0.0066 - val_loss: 0.0082\n",
      "Epoch 17/200\n",
      "6400/6400 [==============================] - 2s 372us/step - loss: 0.0064 - val_loss: 0.0116\n",
      "Epoch 18/200\n",
      "6400/6400 [==============================] - 2s 375us/step - loss: 0.0061 - val_loss: 0.0114\n",
      "Epoch 19/200\n",
      "6400/6400 [==============================] - 2s 374us/step - loss: 0.0059 - val_loss: 0.0078\n",
      "Epoch 20/200\n",
      "6400/6400 [==============================] - 2s 374us/step - loss: 0.0056 - val_loss: 0.0069\n",
      "Epoch 21/200\n",
      "6400/6400 [==============================] - 2s 374us/step - loss: 0.0056 - val_loss: 0.0074\n",
      "Epoch 22/200\n",
      "6400/6400 [==============================] - 2s 383us/step - loss: 0.0058 - val_loss: 0.0052\n",
      "Epoch 23/200\n",
      "6400/6400 [==============================] - 2s 374us/step - loss: 0.0053 - val_loss: 0.0075\n",
      "Epoch 24/200\n",
      "6400/6400 [==============================] - 2s 380us/step - loss: 0.0053 - val_loss: 0.0085\n",
      "Epoch 25/200\n",
      "6400/6400 [==============================] - 2s 376us/step - loss: 0.0052 - val_loss: 0.0059\n",
      "Epoch 26/200\n",
      "6400/6400 [==============================] - 2s 379us/step - loss: 0.0050 - val_loss: 0.0060\n",
      "Epoch 27/200\n",
      "6400/6400 [==============================] - 2s 372us/step - loss: 0.0050 - val_loss: 0.0072\n",
      "Epoch 28/200\n",
      "6400/6400 [==============================] - 2s 376us/step - loss: 0.0049 - val_loss: 0.0063\n",
      "Epoch 29/200\n",
      "6400/6400 [==============================] - 2s 374us/step - loss: 0.0047 - val_loss: 0.0056\n",
      "Epoch 30/200\n",
      "6400/6400 [==============================] - 2s 373us/step - loss: 0.0046 - val_loss: 0.0053\n",
      "Epoch 31/200\n",
      "6400/6400 [==============================] - 2s 374us/step - loss: 0.0049 - val_loss: 0.0044\n",
      "Epoch 32/200\n",
      "6400/6400 [==============================] - 2s 375us/step - loss: 0.0045 - val_loss: 0.0048\n",
      "Epoch 33/200\n",
      "6400/6400 [==============================] - 2s 371us/step - loss: 0.0046 - val_loss: 0.0055\n",
      "Epoch 34/200\n",
      "6400/6400 [==============================] - 2s 373us/step - loss: 0.0043 - val_loss: 0.0060\n",
      "Epoch 35/200\n",
      "6400/6400 [==============================] - 2s 372us/step - loss: 0.0044 - val_loss: 0.0071\n",
      "Epoch 36/200\n",
      "6400/6400 [==============================] - 2s 377us/step - loss: 0.0043 - val_loss: 0.0045\n",
      "Epoch 37/200\n",
      "6400/6400 [==============================] - 2s 389us/step - loss: 0.0047 - val_loss: 0.0076\n",
      "Epoch 38/200\n",
      "6400/6400 [==============================] - 2s 385us/step - loss: 0.0041 - val_loss: 0.0056\n",
      "Epoch 39/200\n",
      "6400/6400 [==============================] - 2s 371us/step - loss: 0.0042 - val_loss: 0.0067\n",
      "Epoch 40/200\n",
      "6400/6400 [==============================] - 2s 380us/step - loss: 0.0040 - val_loss: 0.0048\n",
      "Epoch 41/200\n",
      "6400/6400 [==============================] - 2s 375us/step - loss: 0.0040 - val_loss: 0.0050\n",
      "Epoch 42/200\n",
      "6400/6400 [==============================] - 2s 374us/step - loss: 0.0039 - val_loss: 0.0053\n",
      "Epoch 43/200\n",
      "6400/6400 [==============================] - 2s 374us/step - loss: 0.0038 - val_loss: 0.0052\n",
      "Epoch 44/200\n",
      "6400/6400 [==============================] - 2s 373us/step - loss: 0.0038 - val_loss: 0.0046\n",
      "Epoch 45/200\n",
      "6400/6400 [==============================] - 2s 377us/step - loss: 0.0037 - val_loss: 0.0040\n",
      "Epoch 46/200\n",
      "6400/6400 [==============================] - 2s 373us/step - loss: 0.0038 - val_loss: 0.0042\n",
      "Epoch 47/200\n",
      "6400/6400 [==============================] - 2s 381us/step - loss: 0.0036 - val_loss: 0.0049\n",
      "Epoch 48/200\n",
      "6400/6400 [==============================] - 2s 375us/step - loss: 0.0036 - val_loss: 0.0057\n",
      "Epoch 49/200\n",
      "6400/6400 [==============================] - 2s 378us/step - loss: 0.0036 - val_loss: 0.0088\n",
      "Epoch 50/200\n",
      "6400/6400 [==============================] - 2s 376us/step - loss: 0.0035 - val_loss: 0.0048\n",
      "Epoch 51/200\n",
      "6400/6400 [==============================] - 2s 372us/step - loss: 0.0036 - val_loss: 0.0048\n",
      "Epoch 52/200\n",
      "6400/6400 [==============================] - 2s 373us/step - loss: 0.0035 - val_loss: 0.0042\n",
      "Epoch 53/200\n",
      "6400/6400 [==============================] - 2s 379us/step - loss: 0.0035 - val_loss: 0.0039\n",
      "Epoch 54/200\n",
      "6400/6400 [==============================] - 2s 373us/step - loss: 0.0034 - val_loss: 0.0040\n",
      "Epoch 55/200\n",
      "6400/6400 [==============================] - 2s 374us/step - loss: 0.0034 - val_loss: 0.0037\n",
      "Epoch 56/200\n",
      "6400/6400 [==============================] - 2s 372us/step - loss: 0.0033 - val_loss: 0.0094\n",
      "Epoch 57/200\n",
      "6400/6400 [==============================] - 2s 379us/step - loss: 0.0033 - val_loss: 0.0040\n",
      "Epoch 58/200\n",
      "6400/6400 [==============================] - 2s 375us/step - loss: 0.0033 - val_loss: 0.0043\n",
      "Epoch 59/200\n",
      "6400/6400 [==============================] - 2s 376us/step - loss: 0.0032 - val_loss: 0.0039\n",
      "Epoch 60/200\n",
      "6400/6400 [==============================] - 2s 373us/step - loss: 0.0032 - val_loss: 0.0050\n",
      "Epoch 61/200\n",
      "6400/6400 [==============================] - 2s 374us/step - loss: 0.0033 - val_loss: 0.0061\n",
      "Epoch 62/200\n",
      "6400/6400 [==============================] - 2s 374us/step - loss: 0.0033 - val_loss: 0.0059\n",
      "Epoch 63/200\n",
      "6400/6400 [==============================] - 2s 377us/step - loss: 0.0032 - val_loss: 0.0065\n",
      "Epoch 64/200\n",
      "6400/6400 [==============================] - 2s 373us/step - loss: 0.0031 - val_loss: 0.0041\n",
      "Epoch 65/200\n",
      "6400/6400 [==============================] - 2s 375us/step - loss: 0.0031 - val_loss: 0.0127\n",
      "Epoch 66/200\n",
      "6400/6400 [==============================] - 2s 373us/step - loss: 0.0031 - val_loss: 0.0058\n",
      "Epoch 67/200\n",
      "6400/6400 [==============================] - 2s 379us/step - loss: 0.0030 - val_loss: 0.0054\n",
      "Epoch 68/200\n",
      "6400/6400 [==============================] - 2s 377us/step - loss: 0.0030 - val_loss: 0.0037\n",
      "Epoch 69/200\n",
      "6400/6400 [==============================] - 2s 372us/step - loss: 0.0031 - val_loss: 0.0050\n",
      "Epoch 70/200\n",
      "6400/6400 [==============================] - 2s 375us/step - loss: 0.0030 - val_loss: 0.0035\n",
      "Epoch 71/200\n",
      "6400/6400 [==============================] - 2s 377us/step - loss: 0.0029 - val_loss: 0.0041\n",
      "Epoch 72/200\n",
      "6400/6400 [==============================] - 2s 379us/step - loss: 0.0028 - val_loss: 0.0046\n",
      "Epoch 73/200\n",
      "6400/6400 [==============================] - 2s 376us/step - loss: 0.0030 - val_loss: 0.0047\n",
      "Epoch 74/200\n",
      "6400/6400 [==============================] - 2s 376us/step - loss: 0.0029 - val_loss: 0.0150\n",
      "Epoch 75/200\n",
      "6400/6400 [==============================] - 2s 375us/step - loss: 0.0029 - val_loss: 0.0037\n",
      "Epoch 76/200\n",
      "6400/6400 [==============================] - 2s 375us/step - loss: 0.0028 - val_loss: 0.0046\n",
      "Epoch 77/200\n",
      "6400/6400 [==============================] - 2s 376us/step - loss: 0.0028 - val_loss: 0.0040\n"
     ]
    },
    {
     "name": "stdout",
     "output_type": "stream",
     "text": [
      "Epoch 78/200\n",
      "6400/6400 [==============================] - 2s 375us/step - loss: 0.0028 - val_loss: 0.0034\n",
      "Epoch 79/200\n",
      "6400/6400 [==============================] - 2s 377us/step - loss: 0.0028 - val_loss: 0.0036\n",
      "Epoch 80/200\n",
      "6400/6400 [==============================] - 2s 375us/step - loss: 0.0028 - val_loss: 0.0040\n",
      "Epoch 81/200\n",
      "6400/6400 [==============================] - 2s 374us/step - loss: 0.0028 - val_loss: 0.0039\n",
      "Epoch 82/200\n",
      "6400/6400 [==============================] - 2s 376us/step - loss: 0.0027 - val_loss: 0.0040\n",
      "Epoch 83/200\n",
      "6400/6400 [==============================] - 2s 376us/step - loss: 0.0027 - val_loss: 0.0037\n",
      "Epoch 84/200\n",
      "6400/6400 [==============================] - 2s 375us/step - loss: 0.0027 - val_loss: 0.0036\n",
      "Epoch 85/200\n",
      "6400/6400 [==============================] - 2s 374us/step - loss: 0.0027 - val_loss: 0.0038\n",
      "Epoch 86/200\n",
      "6400/6400 [==============================] - 2s 376us/step - loss: 0.0026 - val_loss: 0.0040\n",
      "Epoch 87/200\n",
      "6400/6400 [==============================] - 2s 375us/step - loss: 0.0026 - val_loss: 0.0040\n",
      "Epoch 88/200\n",
      "6400/6400 [==============================] - 2s 377us/step - loss: 0.0027 - val_loss: 0.0034\n",
      "Epoch 89/200\n",
      "6400/6400 [==============================] - 2s 376us/step - loss: 0.0026 - val_loss: 0.0039\n",
      "Epoch 90/200\n",
      "6400/6400 [==============================] - 2s 373us/step - loss: 0.0025 - val_loss: 0.0034\n",
      "Epoch 91/200\n",
      "6400/6400 [==============================] - 2s 377us/step - loss: 0.0025 - val_loss: 0.0034\n",
      "Epoch 92/200\n",
      "6400/6400 [==============================] - 2s 372us/step - loss: 0.0025 - val_loss: 0.0039\n",
      "Epoch 93/200\n",
      "6400/6400 [==============================] - 2s 376us/step - loss: 0.0025 - val_loss: 0.0037\n",
      "Epoch 94/200\n",
      "6400/6400 [==============================] - 2s 376us/step - loss: 0.0024 - val_loss: 0.0041\n",
      "Epoch 95/200\n",
      "6400/6400 [==============================] - 2s 376us/step - loss: 0.0025 - val_loss: 0.0035\n",
      "Epoch 96/200\n",
      "6400/6400 [==============================] - 2s 375us/step - loss: 0.0024 - val_loss: 0.0039\n",
      "Epoch 97/200\n",
      "6400/6400 [==============================] - 2s 377us/step - loss: 0.0024 - val_loss: 0.0035\n",
      "Epoch 98/200\n",
      "6400/6400 [==============================] - 2s 373us/step - loss: 0.0024 - val_loss: 0.0041\n",
      "Epoch 99/200\n",
      "6400/6400 [==============================] - 2s 377us/step - loss: 0.0024 - val_loss: 0.0034\n",
      "Epoch 100/200\n",
      "6400/6400 [==============================] - 2s 377us/step - loss: 0.0024 - val_loss: 0.0034\n",
      "Epoch 101/200\n",
      "6400/6400 [==============================] - 2s 375us/step - loss: 0.0024 - val_loss: 0.0066\n",
      "Epoch 102/200\n",
      "6400/6400 [==============================] - 2s 372us/step - loss: 0.0023 - val_loss: 0.0049\n",
      "Epoch 103/200\n",
      "6400/6400 [==============================] - 2s 380us/step - loss: 0.0023 - val_loss: 0.0034\n",
      "Epoch 104/200\n",
      "6400/6400 [==============================] - 2s 374us/step - loss: 0.0023 - val_loss: 0.0038\n",
      "Epoch 105/200\n",
      "6400/6400 [==============================] - 2s 371us/step - loss: 0.0023 - val_loss: 0.0033\n",
      "Epoch 106/200\n",
      "6400/6400 [==============================] - 2s 373us/step - loss: 0.0022 - val_loss: 0.0043\n",
      "Epoch 107/200\n",
      "6400/6400 [==============================] - 2s 375us/step - loss: 0.0023 - val_loss: 0.0034\n",
      "Epoch 108/200\n",
      "6400/6400 [==============================] - 2s 374us/step - loss: 0.0022 - val_loss: 0.0043\n",
      "Epoch 109/200\n",
      "6400/6400 [==============================] - 2s 378us/step - loss: 0.0022 - val_loss: 0.0037\n",
      "Epoch 110/200\n",
      "6400/6400 [==============================] - 2s 372us/step - loss: 0.0022 - val_loss: 0.0037\n",
      "Epoch 111/200\n",
      "6400/6400 [==============================] - 2s 378us/step - loss: 0.0022 - val_loss: 0.0034\n",
      "Epoch 112/200\n",
      "6400/6400 [==============================] - 2s 373us/step - loss: 0.0022 - val_loss: 0.0035\n",
      "Epoch 113/200\n",
      "6400/6400 [==============================] - 2s 374us/step - loss: 0.0022 - val_loss: 0.0033\n",
      "Epoch 114/200\n",
      "6400/6400 [==============================] - 2s 373us/step - loss: 0.0021 - val_loss: 0.0033\n",
      "Epoch 115/200\n",
      "6400/6400 [==============================] - 2s 371us/step - loss: 0.0021 - val_loss: 0.0036\n",
      "Epoch 116/200\n",
      "6400/6400 [==============================] - 2s 377us/step - loss: 0.0021 - val_loss: 0.0038\n",
      "Epoch 117/200\n",
      "6400/6400 [==============================] - 2s 373us/step - loss: 0.0021 - val_loss: 0.0037\n",
      "Epoch 118/200\n",
      "6400/6400 [==============================] - 2s 372us/step - loss: 0.0021 - val_loss: 0.0038\n",
      "Epoch 119/200\n",
      "6400/6400 [==============================] - 2s 371us/step - loss: 0.0021 - val_loss: 0.0043\n",
      "Epoch 120/200\n",
      "6400/6400 [==============================] - 2s 373us/step - loss: 0.0020 - val_loss: 0.0036\n",
      "Epoch 121/200\n",
      "6400/6400 [==============================] - 2s 371us/step - loss: 0.0020 - val_loss: 0.0036\n",
      "Epoch 122/200\n",
      "6400/6400 [==============================] - 2s 377us/step - loss: 0.0020 - val_loss: 0.0044\n",
      "Epoch 123/200\n",
      "6400/6400 [==============================] - 2s 373us/step - loss: 0.0020 - val_loss: 0.0035\n",
      "Epoch 124/200\n",
      "6400/6400 [==============================] - 2s 373us/step - loss: 0.0021 - val_loss: 0.0039\n",
      "Epoch 125/200\n",
      "6400/6400 [==============================] - 2s 377us/step - loss: 0.0020 - val_loss: 0.0039\n",
      "Epoch 126/200\n",
      "6400/6400 [==============================] - 2s 373us/step - loss: 0.0020 - val_loss: 0.0036\n",
      "Epoch 127/200\n",
      "6400/6400 [==============================] - 2s 374us/step - loss: 0.0020 - val_loss: 0.0039\n",
      "Epoch 128/200\n",
      "6400/6400 [==============================] - 2s 372us/step - loss: 0.0020 - val_loss: 0.0035\n",
      "Epoch 129/200\n",
      "6400/6400 [==============================] - 2s 373us/step - loss: 0.0020 - val_loss: 0.0036\n",
      "Epoch 130/200\n",
      "6400/6400 [==============================] - 2s 373us/step - loss: 0.0019 - val_loss: 0.0035\n",
      "Epoch 131/200\n",
      "6400/6400 [==============================] - 2s 372us/step - loss: 0.0019 - val_loss: 0.0045\n",
      "Epoch 132/200\n",
      "6400/6400 [==============================] - 2s 377us/step - loss: 0.0020 - val_loss: 0.0035\n",
      "Epoch 133/200\n",
      "6400/6400 [==============================] - 2s 372us/step - loss: 0.0019 - val_loss: 0.0036\n",
      "Epoch 134/200\n",
      "6400/6400 [==============================] - 2s 372us/step - loss: 0.0019 - val_loss: 0.0036\n",
      "Epoch 135/200\n",
      "6400/6400 [==============================] - 2s 371us/step - loss: 0.0019 - val_loss: 0.0036\n",
      "Epoch 136/200\n",
      "6400/6400 [==============================] - 2s 375us/step - loss: 0.0019 - val_loss: 0.0034\n",
      "Epoch 137/200\n",
      "6400/6400 [==============================] - 2s 374us/step - loss: 0.0019 - val_loss: 0.0036\n",
      "Epoch 138/200\n",
      "6400/6400 [==============================] - 2s 377us/step - loss: 0.0018 - val_loss: 0.0035\n",
      "Epoch 139/200\n",
      "6400/6400 [==============================] - 2s 375us/step - loss: 0.0018 - val_loss: 0.0036\n",
      "Epoch 140/200\n",
      "6400/6400 [==============================] - 2s 376us/step - loss: 0.0018 - val_loss: 0.0036\n",
      "Epoch 141/200\n",
      "6400/6400 [==============================] - 2s 375us/step - loss: 0.0018 - val_loss: 0.0055\n",
      "Epoch 142/200\n",
      "6400/6400 [==============================] - 2s 375us/step - loss: 0.0019 - val_loss: 0.0042\n",
      "Epoch 143/200\n",
      "6400/6400 [==============================] - 2s 374us/step - loss: 0.0018 - val_loss: 0.0033\n",
      "Epoch 144/200\n",
      "6400/6400 [==============================] - 2s 371us/step - loss: 0.0018 - val_loss: 0.0038\n",
      "Epoch 145/200\n",
      "6400/6400 [==============================] - 2s 375us/step - loss: 0.0018 - val_loss: 0.0038\n",
      "Epoch 146/200\n",
      "6400/6400 [==============================] - 2s 371us/step - loss: 0.0018 - val_loss: 0.0038\n",
      "Epoch 147/200\n",
      "6400/6400 [==============================] - 2s 377us/step - loss: 0.0018 - val_loss: 0.0039\n",
      "Epoch 148/200\n",
      "6400/6400 [==============================] - 2s 371us/step - loss: 0.0018 - val_loss: 0.0038\n",
      "Epoch 149/200\n",
      "6400/6400 [==============================] - 2s 375us/step - loss: 0.0018 - val_loss: 0.0035\n",
      "Epoch 150/200\n",
      "6400/6400 [==============================] - 2s 373us/step - loss: 0.0018 - val_loss: 0.0035\n",
      "Epoch 151/200\n",
      "6400/6400 [==============================] - 2s 374us/step - loss: 0.0018 - val_loss: 0.0037\n",
      "Epoch 152/200\n",
      "6400/6400 [==============================] - 2s 372us/step - loss: 0.0018 - val_loss: 0.0034\n",
      "Epoch 153/200\n",
      "6400/6400 [==============================] - 2s 375us/step - loss: 0.0017 - val_loss: 0.0036\n",
      "Epoch 154/200\n",
      "6400/6400 [==============================] - 2s 371us/step - loss: 0.0017 - val_loss: 0.0035\n"
     ]
    },
    {
     "name": "stdout",
     "output_type": "stream",
     "text": [
      "Epoch 155/200\n",
      "6400/6400 [==============================] - 2s 373us/step - loss: 0.0017 - val_loss: 0.0036\n",
      "Epoch 156/200\n",
      "6400/6400 [==============================] - 2s 373us/step - loss: 0.0017 - val_loss: 0.0034\n",
      "Epoch 157/200\n",
      "6400/6400 [==============================] - 2s 374us/step - loss: 0.0017 - val_loss: 0.0036\n",
      "Epoch 158/200\n",
      "6400/6400 [==============================] - 2s 374us/step - loss: 0.0017 - val_loss: 0.0036\n",
      "Epoch 159/200\n",
      "6400/6400 [==============================] - 2s 374us/step - loss: 0.0017 - val_loss: 0.0036\n",
      "Epoch 160/200\n",
      "6400/6400 [==============================] - 2s 376us/step - loss: 0.0017 - val_loss: 0.0047\n",
      "Epoch 161/200\n",
      "6400/6400 [==============================] - 2s 374us/step - loss: 0.0017 - val_loss: 0.0046\n",
      "Epoch 162/200\n",
      "6400/6400 [==============================] - 2s 372us/step - loss: 0.0017 - val_loss: 0.0036\n",
      "Epoch 163/200\n",
      "6400/6400 [==============================] - 3s 392us/step - loss: 0.0017 - val_loss: 0.0037\n",
      "Epoch 164/200\n",
      "6400/6400 [==============================] - 2s 374us/step - loss: 0.0017 - val_loss: 0.0038\n",
      "Epoch 165/200\n",
      "6400/6400 [==============================] - 2s 382us/step - loss: 0.0017 - val_loss: 0.0051\n",
      "Epoch 166/200\n",
      "6400/6400 [==============================] - 2s 377us/step - loss: 0.0017 - val_loss: 0.0036\n",
      "Epoch 167/200\n",
      "6400/6400 [==============================] - 2s 373us/step - loss: 0.0017 - val_loss: 0.0040\n",
      "Epoch 168/200\n",
      "6400/6400 [==============================] - 2s 370us/step - loss: 0.0017 - val_loss: 0.0041\n",
      "Epoch 169/200\n",
      "6400/6400 [==============================] - 2s 369us/step - loss: 0.0016 - val_loss: 0.0041\n",
      "Epoch 170/200\n",
      "6400/6400 [==============================] - 2s 373us/step - loss: 0.0016 - val_loss: 0.0041\n",
      "Epoch 171/200\n",
      "6400/6400 [==============================] - 2s 374us/step - loss: 0.0016 - val_loss: 0.0043\n",
      "Epoch 172/200\n",
      "6400/6400 [==============================] - 2s 376us/step - loss: 0.0016 - val_loss: 0.0037\n",
      "Epoch 173/200\n",
      "6400/6400 [==============================] - 2s 371us/step - loss: 0.0016 - val_loss: 0.0037\n",
      "Epoch 174/200\n",
      "6400/6400 [==============================] - 2s 376us/step - loss: 0.0016 - val_loss: 0.0062\n",
      "Epoch 175/200\n",
      "6400/6400 [==============================] - 2s 376us/step - loss: 0.0016 - val_loss: 0.0040\n",
      "Epoch 176/200\n",
      "6400/6400 [==============================] - 2s 375us/step - loss: 0.0016 - val_loss: 0.0041\n",
      "Epoch 177/200\n",
      "6400/6400 [==============================] - 2s 369us/step - loss: 0.0016 - val_loss: 0.0038\n",
      "Epoch 178/200\n",
      "6400/6400 [==============================] - 2s 373us/step - loss: 0.0016 - val_loss: 0.0039\n",
      "Epoch 179/200\n",
      "6400/6400 [==============================] - 2s 372us/step - loss: 0.0016 - val_loss: 0.0035\n",
      "Epoch 180/200\n",
      "6400/6400 [==============================] - 2s 374us/step - loss: 0.0016 - val_loss: 0.0035\n",
      "Epoch 181/200\n",
      "6400/6400 [==============================] - 2s 375us/step - loss: 0.0016 - val_loss: 0.0038\n",
      "Epoch 182/200\n",
      "6400/6400 [==============================] - 2s 373us/step - loss: 0.0015 - val_loss: 0.0037\n",
      "Epoch 183/200\n",
      "6400/6400 [==============================] - 2s 375us/step - loss: 0.0016 - val_loss: 0.0039\n",
      "Epoch 184/200\n",
      "6400/6400 [==============================] - 2s 371us/step - loss: 0.0016 - val_loss: 0.0040\n",
      "Epoch 185/200\n",
      "6400/6400 [==============================] - 2s 372us/step - loss: 0.0015 - val_loss: 0.0047\n",
      "Epoch 186/200\n",
      "6400/6400 [==============================] - 2s 376us/step - loss: 0.0015 - val_loss: 0.0043\n",
      "Epoch 187/200\n",
      "6400/6400 [==============================] - 2s 366us/step - loss: 0.0015 - val_loss: 0.0044\n",
      "Epoch 188/200\n",
      "6400/6400 [==============================] - 2s 374us/step - loss: 0.0016 - val_loss: 0.0040\n",
      "Epoch 189/200\n",
      "6400/6400 [==============================] - 2s 375us/step - loss: 0.0015 - val_loss: 0.0047\n",
      "Epoch 190/200\n",
      "6400/6400 [==============================] - 2s 374us/step - loss: 0.0015 - val_loss: 0.0041\n",
      "Epoch 191/200\n",
      "6400/6400 [==============================] - 2s 374us/step - loss: 0.0015 - val_loss: 0.0041\n",
      "Epoch 192/200\n",
      "6400/6400 [==============================] - 2s 375us/step - loss: 0.0015 - val_loss: 0.0039\n",
      "Epoch 193/200\n",
      "6400/6400 [==============================] - 2s 380us/step - loss: 0.0015 - val_loss: 0.0046\n",
      "Epoch 194/200\n",
      "6400/6400 [==============================] - 2s 373us/step - loss: 0.0015 - val_loss: 0.0039\n",
      "Epoch 195/200\n",
      "6400/6400 [==============================] - 2s 377us/step - loss: 0.0015 - val_loss: 0.0042\n",
      "Epoch 196/200\n",
      "6400/6400 [==============================] - 2s 372us/step - loss: 0.0015 - val_loss: 0.0051\n",
      "Epoch 197/200\n",
      "6400/6400 [==============================] - 2s 375us/step - loss: 0.0015 - val_loss: 0.0039\n",
      "Epoch 198/200\n",
      "6400/6400 [==============================] - 2s 373us/step - loss: 0.0015 - val_loss: 0.0050\n",
      "Epoch 199/200\n",
      "6400/6400 [==============================] - 2s 374us/step - loss: 0.0015 - val_loss: 0.0039\n",
      "Epoch 200/200\n",
      "6400/6400 [==============================] - 2s 370us/step - loss: 0.0015 - val_loss: 0.0041\n"
     ]
    }
   ],
   "source": [
    "autoencoder_train = autoencoder.fit(train_X, train_ground, batch_size=batch_size,epochs=epochs,verbose=1,validation_data=(valid_X, valid_ground))"
   ]
  },
  {
   "cell_type": "code",
   "execution_count": 78,
   "metadata": {},
   "outputs": [
    {
     "data": {
      "image/png": "[encoded data removed]",
      "text/plain": [
       "<Figure size 432x288 with 1 Axes>"
      ]
     },
     "metadata": {},
     "output_type": "display_data"
    }
   ],
   "source": [
    "loss = autoencoder_train.history['loss']\n",
    "val_loss = autoencoder_train.history['val_loss']\n",
    "epochs = range(200)\n",
    "plt.figure()\n",
    "plt.plot(epochs, loss, 'bo', label='Training loss')\n",
    "plt.plot(epochs, val_loss, 'b', label='Validation loss')\n",
    "plt.title('Training and validation loss')\n",
    "plt.legend()\n",
    "plt.show()"
   ]
  },
  {
   "cell_type": "code",
   "execution_count": 79,
   "metadata": {},
   "outputs": [],
   "source": [
    "autoencoder.save_weights('autoencoder.h5')"
   ]
  },
  {
   "cell_type": "code",
   "execution_count": 80,
   "metadata": {},
   "outputs": [
    {
     "name": "stdout",
     "output_type": "stream",
     "text": [
      "Original label: 0\n",
      "After conversion to one-hot: [1. 0. 0. 0. 0. 0. 0.]\n"
     ]
    }
   ],
   "source": [
    "# Change the labels from categorical to one-hot encoding\n",
    "train_Y_one_hot = keras.utils.np_utils.to_categorical(label)\n",
    "\n",
    "\n",
    "# Display the change for category label using one-hot encoding\n",
    "print('Original label:', label[0])\n",
    "print('After conversion to one-hot:', train_Y_one_hot[0])"
   ]
  },
  {
   "cell_type": "code",
   "execution_count": 81,
   "metadata": {},
   "outputs": [],
   "source": [
    "train_X,valid_X,train_label,valid_label = train_test_split(train_data,train_Y_one_hot,test_size=0.2,random_state=13)"
   ]
  },
  {
   "cell_type": "code",
   "execution_count": 82,
   "metadata": {},
   "outputs": [
    {
     "data": {
      "text/plain": [
       "((6400, 28, 28, 1), (1600, 28, 28, 1), (6400, 7), (1600, 7))"
      ]
     },
     "execution_count": 82,
     "metadata": {},
     "output_type": "execute_result"
    }
   ],
   "source": [
    "train_X.shape,valid_X.shape,train_label.shape,valid_label.shape"
   ]
  },
  {
   "cell_type": "code",
   "execution_count": 83,
   "metadata": {},
   "outputs": [],
   "source": [
    "def encoder(input_img):\n",
    "    #encoder\n",
    "    #input = 28 x 28 x 1 (wide and thin)\n",
    "    conv1 = Conv2D(32, (3, 3), activation='relu', padding='same')(input_img) #28 x 28 x 32\n",
    "    conv1 = BatchNormalization()(conv1)\n",
    "    conv1 = Conv2D(32, (3, 3), activation='relu', padding='same')(conv1)\n",
    "    conv1 = BatchNormalization()(conv1)\n",
    "    pool1 = MaxPooling2D(pool_size=(2, 2))(conv1) #14 x 14 x 32\n",
    "    conv2 = Conv2D(64, (3, 3), activation='relu', padding='same')(pool1) #14 x 14 x 64\n",
    "    conv2 = BatchNormalization()(conv2)\n",
    "    conv2 = Conv2D(64, (3, 3), activation='relu', padding='same')(conv2)\n",
    "    conv2 = BatchNormalization()(conv2)\n",
    "    pool2 = MaxPooling2D(pool_size=(2, 2))(conv2) #7 x 7 x 64\n",
    "    conv3 = Conv2D(128, (3, 3), activation='relu', padding='same')(pool2) #7 x 7 x 128 (small and thick)\n",
    "    conv3 = BatchNormalization()(conv3)\n",
    "    conv3 = Conv2D(128, (3, 3), activation='relu', padding='same')(conv3)\n",
    "    conv3 = BatchNormalization()(conv3)\n",
    "    conv4 = Conv2D(256, (3, 3), activation='relu', padding='same')(conv3) #7 x 7 x 256 (small and thick)\n",
    "    conv4 = BatchNormalization()(conv4)\n",
    "    conv4 = Conv2D(256, (3, 3), activation='relu', padding='same')(conv4)\n",
    "    conv4 = BatchNormalization()(conv4)\n",
    "    return conv4"
   ]
  },
  {
   "cell_type": "code",
   "execution_count": 84,
   "metadata": {},
   "outputs": [],
   "source": [
    "def fc(enco):\n",
    "    flat = Flatten()(enco)\n",
    "    den = Dense(128, activation='relu')(flat)\n",
    "    out = Dense(num_classes, activation='softmax')(den)\n",
    "    return out"
   ]
  },
  {
   "cell_type": "code",
   "execution_count": 85,
   "metadata": {},
   "outputs": [],
   "source": [
    "encode = encoder(input_img)\n",
    "full_model = Model(input_img,fc(encode))"
   ]
  },
  {
   "cell_type": "code",
   "execution_count": 86,
   "metadata": {},
   "outputs": [],
   "source": [
    "for l1,l2 in zip(full_model.layers[:19],autoencoder.layers[0:19]):\n",
    "    l1.set_weights(l2.get_weights())"
   ]
  },
  {
   "cell_type": "code",
   "execution_count": 87,
   "metadata": {},
   "outputs": [
    {
     "data": {
      "text/plain": [
       "array([[[-8.92826021e-02,  1.20219760e-01,  9.46458802e-03,\n",
       "          6.52166232e-02,  1.85997859e-01, -6.71763197e-02,\n",
       "         -8.58565941e-02, -1.99856564e-01, -6.24276586e-02,\n",
       "          1.33293331e-01, -1.68890998e-01,  1.18645422e-01,\n",
       "          1.93988860e-01,  2.62400568e-01,  7.07430691e-02,\n",
       "          2.45019019e-01,  1.44162819e-01, -5.77673972e-01,\n",
       "         -2.58288622e-01, -7.07396120e-02,  6.44430071e-02,\n",
       "         -1.95830643e-01,  2.10087031e-01, -2.24126223e-02,\n",
       "          3.00603449e-01,  4.92660552e-02,  6.61354959e-02,\n",
       "          8.80498514e-02, -5.19504473e-02, -1.57302082e-01,\n",
       "         -3.81634772e-01, -4.73297609e-04]],\n",
       "\n",
       "       [[-9.59830638e-03, -1.10451095e-01,  1.40998423e-01,\n",
       "          2.49244288e-01,  5.32437414e-02,  1.43699288e-01,\n",
       "          1.87271938e-01, -8.99593085e-02,  1.16814569e-01,\n",
       "         -3.01000714e-01, -1.00562781e-01, -2.40664959e-01,\n",
       "          1.41868010e-01, -1.89484492e-01,  2.88667381e-01,\n",
       "          7.42339417e-02,  2.18929410e-01, -2.63741136e-01,\n",
       "         -3.37666608e-02, -2.86089897e-01, -2.31356636e-01,\n",
       "         -1.62074655e-01, -5.60069866e-02, -1.62439197e-01,\n",
       "         -2.49988101e-02,  1.76084012e-01,  1.12446793e-03,\n",
       "          6.63214773e-02, -1.22450247e-01,  4.25744839e-02,\n",
       "         -3.54965739e-02, -1.45345405e-01]],\n",
       "\n",
       "       [[-1.94931775e-01,  2.63812989e-02,  2.13285064e-04,\n",
       "          1.64857343e-01, -2.87074238e-01,  2.40223035e-01,\n",
       "         -1.43944755e-01,  2.12381944e-01,  2.05338597e-01,\n",
       "         -2.02395260e-01,  1.80709809e-02,  6.20473996e-02,\n",
       "          1.42331317e-01, -2.27021322e-01,  1.84503216e-02,\n",
       "         -1.36426196e-01, -1.23142786e-01, -2.00093240e-01,\n",
       "         -2.55433589e-01,  7.14894980e-02, -5.30722439e-02,\n",
       "          1.00618184e-01,  6.42116293e-02, -2.32891187e-01,\n",
       "          1.93458140e-01,  7.04193115e-02, -2.10046574e-01,\n",
       "          8.92635360e-02,  2.25921988e-01, -1.08700357e-01,\n",
       "         -2.24417299e-01,  2.48685285e-01]]], dtype=float32)"
      ]
     },
     "execution_count": 87,
     "metadata": {},
     "output_type": "execute_result"
    }
   ],
   "source": [
    "autoencoder.get_weights()[0][1]"
   ]
  },
  {
   "cell_type": "code",
   "execution_count": 88,
   "metadata": {},
   "outputs": [
    {
     "data": {
      "text/plain": [
       "array([[[-8.92826021e-02,  1.20219760e-01,  9.46458802e-03,\n",
       "          6.52166232e-02,  1.85997859e-01, -6.71763197e-02,\n",
       "         -8.58565941e-02, -1.99856564e-01, -6.24276586e-02,\n",
       "          1.33293331e-01, -1.68890998e-01,  1.18645422e-01,\n",
       "          1.93988860e-01,  2.62400568e-01,  7.07430691e-02,\n",
       "          2.45019019e-01,  1.44162819e-01, -5.77673972e-01,\n",
       "         -2.58288622e-01, -7.07396120e-02,  6.44430071e-02,\n",
       "         -1.95830643e-01,  2.10087031e-01, -2.24126223e-02,\n",
       "          3.00603449e-01,  4.92660552e-02,  6.61354959e-02,\n",
       "          8.80498514e-02, -5.19504473e-02, -1.57302082e-01,\n",
       "         -3.81634772e-01, -4.73297609e-04]],\n",
       "\n",
       "       [[-9.59830638e-03, -1.10451095e-01,  1.40998423e-01,\n",
       "          2.49244288e-01,  5.32437414e-02,  1.43699288e-01,\n",
       "          1.87271938e-01, -8.99593085e-02,  1.16814569e-01,\n",
       "         -3.01000714e-01, -1.00562781e-01, -2.40664959e-01,\n",
       "          1.41868010e-01, -1.89484492e-01,  2.88667381e-01,\n",
       "          7.42339417e-02,  2.18929410e-01, -2.63741136e-01,\n",
       "         -3.37666608e-02, -2.86089897e-01, -2.31356636e-01,\n",
       "         -1.62074655e-01, -5.60069866e-02, -1.62439197e-01,\n",
       "         -2.49988101e-02,  1.76084012e-01,  1.12446793e-03,\n",
       "          6.63214773e-02, -1.22450247e-01,  4.25744839e-02,\n",
       "         -3.54965739e-02, -1.45345405e-01]],\n",
       "\n",
       "       [[-1.94931775e-01,  2.63812989e-02,  2.13285064e-04,\n",
       "          1.64857343e-01, -2.87074238e-01,  2.40223035e-01,\n",
       "         -1.43944755e-01,  2.12381944e-01,  2.05338597e-01,\n",
       "         -2.02395260e-01,  1.80709809e-02,  6.20473996e-02,\n",
       "          1.42331317e-01, -2.27021322e-01,  1.84503216e-02,\n",
       "         -1.36426196e-01, -1.23142786e-01, -2.00093240e-01,\n",
       "         -2.55433589e-01,  7.14894980e-02, -5.30722439e-02,\n",
       "          1.00618184e-01,  6.42116293e-02, -2.32891187e-01,\n",
       "          1.93458140e-01,  7.04193115e-02, -2.10046574e-01,\n",
       "          8.92635360e-02,  2.25921988e-01, -1.08700357e-01,\n",
       "         -2.24417299e-01,  2.48685285e-01]]], dtype=float32)"
      ]
     },
     "execution_count": 88,
     "metadata": {},
     "output_type": "execute_result"
    }
   ],
   "source": [
    "full_model.get_weights()[0][1]"
   ]
  },
  {
   "cell_type": "code",
   "execution_count": 89,
   "metadata": {},
   "outputs": [],
   "source": [
    "for layer in full_model.layers[0:19]:\n",
    "    layer.trainable = False"
   ]
  },
  {
   "cell_type": "code",
   "execution_count": 90,
   "metadata": {},
   "outputs": [],
   "source": [
    "full_model.compile(loss=keras.losses.categorical_crossentropy, optimizer=keras.optimizers.Adam(),metrics=['accuracy'])"
   ]
  },
  {
   "cell_type": "code",
   "execution_count": 91,
   "metadata": {},
   "outputs": [
    {
     "name": "stdout",
     "output_type": "stream",
     "text": [
      "_________________________________________________________________\n",
      "Layer (type)                 Output Shape              Param #   \n",
      "=================================================================\n",
      "input_3 (InputLayer)         (None, 28, 28, 1)         0         \n",
      "_________________________________________________________________\n",
      "conv2d_54 (Conv2D)           (None, 28, 28, 32)        320       \n",
      "_________________________________________________________________\n",
      "batch_normalization_51 (Batc (None, 28, 28, 32)        128       \n",
      "_________________________________________________________________\n",
      "conv2d_55 (Conv2D)           (None, 28, 28, 32)        9248      \n",
      "_________________________________________________________________\n",
      "batch_normalization_52 (Batc (None, 28, 28, 32)        128       \n",
      "_________________________________________________________________\n",
      "max_pooling2d_9 (MaxPooling2 (None, 14, 14, 32)        0         \n",
      "_________________________________________________________________\n",
      "conv2d_56 (Conv2D)           (None, 14, 14, 64)        18496     \n",
      "_________________________________________________________________\n",
      "batch_normalization_53 (Batc (None, 14, 14, 64)        256       \n",
      "_________________________________________________________________\n",
      "conv2d_57 (Conv2D)           (None, 14, 14, 64)        36928     \n",
      "_________________________________________________________________\n",
      "batch_normalization_54 (Batc (None, 14, 14, 64)        256       \n",
      "_________________________________________________________________\n",
      "max_pooling2d_10 (MaxPooling (None, 7, 7, 64)          0         \n",
      "_________________________________________________________________\n",
      "conv2d_58 (Conv2D)           (None, 7, 7, 128)         73856     \n",
      "_________________________________________________________________\n",
      "batch_normalization_55 (Batc (None, 7, 7, 128)         512       \n",
      "_________________________________________________________________\n",
      "conv2d_59 (Conv2D)           (None, 7, 7, 128)         147584    \n",
      "_________________________________________________________________\n",
      "batch_normalization_56 (Batc (None, 7, 7, 128)         512       \n",
      "_________________________________________________________________\n",
      "conv2d_60 (Conv2D)           (None, 7, 7, 256)         295168    \n",
      "_________________________________________________________________\n",
      "batch_normalization_57 (Batc (None, 7, 7, 256)         1024      \n",
      "_________________________________________________________________\n",
      "conv2d_61 (Conv2D)           (None, 7, 7, 256)         590080    \n",
      "_________________________________________________________________\n",
      "batch_normalization_58 (Batc (None, 7, 7, 256)         1024      \n",
      "_________________________________________________________________\n",
      "flatten_2 (Flatten)          (None, 12544)             0         \n",
      "_________________________________________________________________\n",
      "dense_3 (Dense)              (None, 128)               1605760   \n",
      "_________________________________________________________________\n",
      "dense_4 (Dense)              (None, 7)                 903       \n",
      "=================================================================\n",
      "Total params: 2,782,183\n",
      "Trainable params: 1,606,663\n",
      "Non-trainable params: 1,175,520\n",
      "_________________________________________________________________\n"
     ]
    }
   ],
   "source": [
    "full_model.summary()"
   ]
  },
  {
   "cell_type": "code",
   "execution_count": 92,
   "metadata": {},
   "outputs": [
    {
     "name": "stdout",
     "output_type": "stream",
     "text": [
      "Train on 6400 samples, validate on 1600 samples\n",
      "Epoch 1/100\n",
      "6400/6400 [==============================] - 3s 493us/step - loss: 0.5764 - acc: 0.8113 - val_loss: 0.3891 - val_acc: 0.8531\n",
      "Epoch 2/100\n",
      "6400/6400 [==============================] - 1s 126us/step - loss: 0.2175 - acc: 0.9191 - val_loss: 0.4111 - val_acc: 0.8425\n",
      "Epoch 3/100\n",
      "6400/6400 [==============================] - 1s 125us/step - loss: 0.1088 - acc: 0.9608 - val_loss: 0.4182 - val_acc: 0.8500\n",
      "Epoch 4/100\n",
      "6400/6400 [==============================] - 1s 124us/step - loss: 0.0590 - acc: 0.9816 - val_loss: 0.5113 - val_acc: 0.8544\n",
      "Epoch 5/100\n",
      "6400/6400 [==============================] - 1s 123us/step - loss: 0.0316 - acc: 0.9909 - val_loss: 0.5072 - val_acc: 0.8562\n",
      "Epoch 6/100\n",
      "6400/6400 [==============================] - 1s 130us/step - loss: 0.0108 - acc: 0.9986 - val_loss: 0.5198 - val_acc: 0.8681\n",
      "Epoch 7/100\n",
      "6400/6400 [==============================] - 1s 127us/step - loss: 0.0049 - acc: 0.9997 - val_loss: 0.5282 - val_acc: 0.8694\n",
      "Epoch 8/100\n",
      "6400/6400 [==============================] - 1s 125us/step - loss: 0.0018 - acc: 1.0000 - val_loss: 0.5365 - val_acc: 0.8694\n",
      "Epoch 9/100\n",
      "6400/6400 [==============================] - 1s 126us/step - loss: 0.0011 - acc: 1.0000 - val_loss: 0.5440 - val_acc: 0.8725\n",
      "Epoch 10/100\n",
      "6400/6400 [==============================] - 1s 126us/step - loss: 8.7742e-04 - acc: 1.0000 - val_loss: 0.5497 - val_acc: 0.8700\n",
      "Epoch 11/100\n",
      "6400/6400 [==============================] - 1s 124us/step - loss: 7.1082e-04 - acc: 1.0000 - val_loss: 0.5576 - val_acc: 0.8694\n",
      "Epoch 12/100\n",
      "6400/6400 [==============================] - 1s 126us/step - loss: 5.9518e-04 - acc: 1.0000 - val_loss: 0.5619 - val_acc: 0.8731\n",
      "Epoch 13/100\n",
      "6400/6400 [==============================] - 1s 124us/step - loss: 5.2084e-04 - acc: 1.0000 - val_loss: 0.5709 - val_acc: 0.8738\n",
      "Epoch 14/100\n",
      "6400/6400 [==============================] - 1s 125us/step - loss: 4.3033e-04 - acc: 1.0000 - val_loss: 0.5732 - val_acc: 0.8725\n",
      "Epoch 15/100\n",
      "6400/6400 [==============================] - 1s 126us/step - loss: 3.8744e-04 - acc: 1.0000 - val_loss: 0.5792 - val_acc: 0.8731\n",
      "Epoch 16/100\n",
      "6400/6400 [==============================] - 1s 126us/step - loss: 3.3367e-04 - acc: 1.0000 - val_loss: 0.5857 - val_acc: 0.8731\n",
      "Epoch 17/100\n",
      "6400/6400 [==============================] - 1s 125us/step - loss: 2.8763e-04 - acc: 1.0000 - val_loss: 0.5907 - val_acc: 0.8706\n",
      "Epoch 18/100\n",
      "6400/6400 [==============================] - 1s 124us/step - loss: 2.5725e-04 - acc: 1.0000 - val_loss: 0.5935 - val_acc: 0.8738\n",
      "Epoch 19/100\n",
      "6400/6400 [==============================] - 1s 124us/step - loss: 2.4609e-04 - acc: 1.0000 - val_loss: 0.5987 - val_acc: 0.8731\n",
      "Epoch 20/100\n",
      "6400/6400 [==============================] - 1s 126us/step - loss: 2.1122e-04 - acc: 1.0000 - val_loss: 0.6029 - val_acc: 0.8725\n",
      "Epoch 21/100\n",
      "6400/6400 [==============================] - 1s 125us/step - loss: 1.8763e-04 - acc: 1.0000 - val_loss: 0.6068 - val_acc: 0.8738\n",
      "Epoch 22/100\n",
      "6400/6400 [==============================] - 1s 127us/step - loss: 1.8377e-04 - acc: 1.0000 - val_loss: 0.6083 - val_acc: 0.8712\n",
      "Epoch 23/100\n",
      "6400/6400 [==============================] - 1s 125us/step - loss: 1.6117e-04 - acc: 1.0000 - val_loss: 0.6134 - val_acc: 0.8725\n",
      "Epoch 24/100\n",
      "6400/6400 [==============================] - 1s 127us/step - loss: 1.4437e-04 - acc: 1.0000 - val_loss: 0.6188 - val_acc: 0.8731\n",
      "Epoch 25/100\n",
      "6400/6400 [==============================] - 1s 125us/step - loss: 1.2874e-04 - acc: 1.0000 - val_loss: 0.6219 - val_acc: 0.8719\n",
      "Epoch 26/100\n",
      "6400/6400 [==============================] - 1s 124us/step - loss: 1.2051e-04 - acc: 1.0000 - val_loss: 0.6241 - val_acc: 0.8731\n",
      "Epoch 27/100\n",
      "6400/6400 [==============================] - 1s 126us/step - loss: 1.1220e-04 - acc: 1.0000 - val_loss: 0.6281 - val_acc: 0.8712\n",
      "Epoch 28/100\n",
      "6400/6400 [==============================] - 1s 126us/step - loss: 0.0033 - acc: 0.9991 - val_loss: 0.7364 - val_acc: 0.8600\n",
      "Epoch 29/100\n",
      "6400/6400 [==============================] - 1s 124us/step - loss: 0.7239 - acc: 0.8786 - val_loss: 0.9916 - val_acc: 0.8037\n",
      "Epoch 30/100\n",
      "6400/6400 [==============================] - 1s 124us/step - loss: 0.2663 - acc: 0.9261 - val_loss: 0.6735 - val_acc: 0.8462\n",
      "Epoch 31/100\n",
      "6400/6400 [==============================] - 1s 125us/step - loss: 0.0759 - acc: 0.9769 - val_loss: 0.6646 - val_acc: 0.8419\n",
      "Epoch 32/100\n",
      "6400/6400 [==============================] - 1s 125us/step - loss: 0.0208 - acc: 0.9953 - val_loss: 0.6788 - val_acc: 0.8612\n",
      "Epoch 33/100\n",
      "6400/6400 [==============================] - 1s 124us/step - loss: 0.0077 - acc: 0.9991 - val_loss: 0.6675 - val_acc: 0.8550\n",
      "Epoch 34/100\n",
      "6400/6400 [==============================] - 1s 125us/step - loss: 0.0028 - acc: 0.9998 - val_loss: 0.6872 - val_acc: 0.8550\n",
      "Epoch 35/100\n",
      "6400/6400 [==============================] - 1s 128us/step - loss: 0.0018 - acc: 0.9998 - val_loss: 0.7000 - val_acc: 0.8569\n",
      "Epoch 36/100\n",
      "6400/6400 [==============================] - 1s 125us/step - loss: 0.0015 - acc: 0.9998 - val_loss: 0.7130 - val_acc: 0.8606\n",
      "Epoch 37/100\n",
      "6400/6400 [==============================] - 1s 125us/step - loss: 0.0012 - acc: 1.0000 - val_loss: 0.7268 - val_acc: 0.8581\n",
      "Epoch 38/100\n",
      "6400/6400 [==============================] - 1s 125us/step - loss: 8.5526e-04 - acc: 1.0000 - val_loss: 0.7336 - val_acc: 0.8619\n",
      "Epoch 39/100\n",
      "6400/6400 [==============================] - 1s 124us/step - loss: 7.1536e-04 - acc: 1.0000 - val_loss: 0.7411 - val_acc: 0.8600\n",
      "Epoch 40/100\n",
      "6400/6400 [==============================] - 1s 126us/step - loss: 5.8264e-04 - acc: 1.0000 - val_loss: 0.7481 - val_acc: 0.8631\n",
      "Epoch 41/100\n",
      "6400/6400 [==============================] - 1s 124us/step - loss: 5.3724e-04 - acc: 1.0000 - val_loss: 0.7534 - val_acc: 0.8619\n",
      "Epoch 42/100\n",
      "6400/6400 [==============================] - 1s 124us/step - loss: 4.3817e-04 - acc: 1.0000 - val_loss: 0.7608 - val_acc: 0.8619\n",
      "Epoch 43/100\n",
      "6400/6400 [==============================] - 1s 125us/step - loss: 3.9135e-04 - acc: 1.0000 - val_loss: 0.7668 - val_acc: 0.8619\n",
      "Epoch 44/100\n",
      "6400/6400 [==============================] - 1s 124us/step - loss: 3.5544e-04 - acc: 1.0000 - val_loss: 0.7723 - val_acc: 0.8638\n",
      "Epoch 45/100\n",
      "6400/6400 [==============================] - 1s 125us/step - loss: 3.2660e-04 - acc: 1.0000 - val_loss: 0.7772 - val_acc: 0.8625\n",
      "Epoch 46/100\n",
      "6400/6400 [==============================] - 1s 125us/step - loss: 3.0088e-04 - acc: 1.0000 - val_loss: 0.7802 - val_acc: 0.8656\n",
      "Epoch 47/100\n",
      "6400/6400 [==============================] - 1s 126us/step - loss: 2.4523e-04 - acc: 1.0000 - val_loss: 0.7866 - val_acc: 0.8644\n",
      "Epoch 48/100\n",
      "6400/6400 [==============================] - 1s 126us/step - loss: 2.2806e-04 - acc: 1.0000 - val_loss: 0.7930 - val_acc: 0.8650\n",
      "Epoch 49/100\n",
      "6400/6400 [==============================] - 1s 126us/step - loss: 2.1151e-04 - acc: 1.0000 - val_loss: 0.7978 - val_acc: 0.8662\n",
      "Epoch 50/100\n",
      "6400/6400 [==============================] - 1s 126us/step - loss: 1.9925e-04 - acc: 1.0000 - val_loss: 0.8026 - val_acc: 0.8638\n",
      "Epoch 51/100\n",
      "6400/6400 [==============================] - 1s 125us/step - loss: 1.8078e-04 - acc: 1.0000 - val_loss: 0.8071 - val_acc: 0.8650\n",
      "Epoch 52/100\n",
      "6400/6400 [==============================] - 1s 127us/step - loss: 1.7170e-04 - acc: 1.0000 - val_loss: 0.8097 - val_acc: 0.8644\n",
      "Epoch 53/100\n",
      "6400/6400 [==============================] - 1s 125us/step - loss: 2.3906e-04 - acc: 1.0000 - val_loss: 0.8625 - val_acc: 0.8581\n",
      "Epoch 54/100\n",
      "6400/6400 [==============================] - 1s 125us/step - loss: 0.0082 - acc: 0.9978 - val_loss: 0.9456 - val_acc: 0.8538\n",
      "Epoch 55/100\n",
      "6400/6400 [==============================] - 1s 125us/step - loss: 0.0726 - acc: 0.9805 - val_loss: 1.0967 - val_acc: 0.8369\n",
      "Epoch 56/100\n",
      "6400/6400 [==============================] - 1s 125us/step - loss: 0.1418 - acc: 0.9636 - val_loss: 0.9311 - val_acc: 0.8431\n",
      "Epoch 57/100\n",
      "6400/6400 [==============================] - 1s 127us/step - loss: 0.0569 - acc: 0.9830 - val_loss: 0.9873 - val_acc: 0.8450\n",
      "Epoch 58/100\n",
      "6400/6400 [==============================] - 1s 136us/step - loss: 0.0299 - acc: 0.9922 - val_loss: 1.0114 - val_acc: 0.8450\n",
      "Epoch 59/100\n",
      "6400/6400 [==============================] - 1s 126us/step - loss: 0.0126 - acc: 0.9963 - val_loss: 1.0003 - val_acc: 0.8606\n",
      "Epoch 60/100\n",
      "6400/6400 [==============================] - 1s 125us/step - loss: 0.0070 - acc: 0.9989 - val_loss: 0.9938 - val_acc: 0.8500\n",
      "Epoch 61/100\n",
      "6400/6400 [==============================] - 1s 129us/step - loss: 0.0024 - acc: 0.9994 - val_loss: 1.0302 - val_acc: 0.8506\n",
      "Epoch 62/100\n",
      "6400/6400 [==============================] - 1s 128us/step - loss: 0.0011 - acc: 0.9997 - val_loss: 0.9969 - val_acc: 0.8506\n",
      "Epoch 63/100\n",
      "6400/6400 [==============================] - 1s 125us/step - loss: 2.3363e-04 - acc: 1.0000 - val_loss: 0.9951 - val_acc: 0.8531\n",
      "Epoch 64/100\n",
      "6400/6400 [==============================] - 1s 127us/step - loss: 1.7881e-04 - acc: 1.0000 - val_loss: 0.9957 - val_acc: 0.8531\n",
      "Epoch 65/100\n",
      "6400/6400 [==============================] - 1s 125us/step - loss: 1.2453e-04 - acc: 1.0000 - val_loss: 0.9965 - val_acc: 0.8538\n",
      "Epoch 66/100\n",
      "6400/6400 [==============================] - 1s 125us/step - loss: 1.1297e-04 - acc: 1.0000 - val_loss: 0.9979 - val_acc: 0.8538\n",
      "Epoch 67/100\n",
      "6400/6400 [==============================] - 1s 125us/step - loss: 1.0803e-04 - acc: 1.0000 - val_loss: 0.9991 - val_acc: 0.8556\n",
      "Epoch 68/100\n",
      "6400/6400 [==============================] - 1s 124us/step - loss: 9.7308e-05 - acc: 1.0000 - val_loss: 1.0013 - val_acc: 0.8562\n",
      "Epoch 69/100\n",
      "6400/6400 [==============================] - 1s 126us/step - loss: 9.6024e-05 - acc: 1.0000 - val_loss: 1.0043 - val_acc: 0.8556\n",
      "Epoch 70/100\n",
      "6400/6400 [==============================] - 1s 124us/step - loss: 8.1945e-05 - acc: 1.0000 - val_loss: 1.0075 - val_acc: 0.8556\n",
      "Epoch 71/100\n",
      "6400/6400 [==============================] - 1s 124us/step - loss: 7.5859e-05 - acc: 1.0000 - val_loss: 1.0089 - val_acc: 0.8556\n",
      "Epoch 72/100\n",
      "6400/6400 [==============================] - 1s 131us/step - loss: 6.6327e-05 - acc: 1.0000 - val_loss: 1.0106 - val_acc: 0.8556\n",
      "Epoch 73/100\n",
      "6400/6400 [==============================] - 1s 124us/step - loss: 6.1100e-05 - acc: 1.0000 - val_loss: 1.0134 - val_acc: 0.8550\n",
      "Epoch 74/100\n",
      "6400/6400 [==============================] - 1s 126us/step - loss: 5.8169e-05 - acc: 1.0000 - val_loss: 1.0150 - val_acc: 0.8550\n",
      "Epoch 75/100\n",
      "6400/6400 [==============================] - 1s 124us/step - loss: 5.4802e-05 - acc: 1.0000 - val_loss: 1.0174 - val_acc: 0.8556\n",
      "Epoch 76/100\n",
      "6400/6400 [==============================] - 1s 125us/step - loss: 5.4188e-05 - acc: 1.0000 - val_loss: 1.0198 - val_acc: 0.8562\n",
      "Epoch 77/100\n",
      "6400/6400 [==============================] - 1s 125us/step - loss: 4.7494e-05 - acc: 1.0000 - val_loss: 1.0214 - val_acc: 0.8556\n",
      "Epoch 78/100\n",
      "6400/6400 [==============================] - 1s 125us/step - loss: 4.7683e-05 - acc: 1.0000 - val_loss: 1.0239 - val_acc: 0.8569\n",
      "Epoch 79/100\n",
      "6400/6400 [==============================] - 1s 124us/step - loss: 4.4471e-05 - acc: 1.0000 - val_loss: 1.0269 - val_acc: 0.8575\n",
      "Epoch 80/100\n",
      "6400/6400 [==============================] - 1s 130us/step - loss: 3.9497e-05 - acc: 1.0000 - val_loss: 1.0283 - val_acc: 0.8575\n",
      "Epoch 81/100\n",
      "6400/6400 [==============================] - 1s 124us/step - loss: 4.1538e-05 - acc: 1.0000 - val_loss: 1.0296 - val_acc: 0.8575\n",
      "Epoch 82/100\n",
      "6400/6400 [==============================] - 1s 125us/step - loss: 3.6526e-05 - acc: 1.0000 - val_loss: 1.0328 - val_acc: 0.8575\n",
      "Epoch 83/100\n",
      "6400/6400 [==============================] - 1s 125us/step - loss: 3.3640e-05 - acc: 1.0000 - val_loss: 1.0348 - val_acc: 0.8588\n",
      "Epoch 84/100\n",
      "6400/6400 [==============================] - 1s 126us/step - loss: 3.2524e-05 - acc: 1.0000 - val_loss: 1.0362 - val_acc: 0.8588\n",
      "Epoch 85/100\n",
      "6400/6400 [==============================] - 1s 128us/step - loss: 3.1821e-05 - acc: 1.0000 - val_loss: 1.0369 - val_acc: 0.8575\n",
      "Epoch 86/100\n",
      "6400/6400 [==============================] - 1s 127us/step - loss: 2.6860e-05 - acc: 1.0000 - val_loss: 1.0391 - val_acc: 0.8575\n",
      "Epoch 87/100\n",
      "6400/6400 [==============================] - 1s 126us/step - loss: 2.7434e-05 - acc: 1.0000 - val_loss: 1.0411 - val_acc: 0.8581\n",
      "Epoch 88/100\n",
      "6400/6400 [==============================] - 1s 125us/step - loss: 2.4900e-05 - acc: 1.0000 - val_loss: 1.0430 - val_acc: 0.8581\n",
      "Epoch 89/100\n",
      "6400/6400 [==============================] - 1s 125us/step - loss: 2.4867e-05 - acc: 1.0000 - val_loss: 1.0451 - val_acc: 0.8588\n",
      "Epoch 90/100\n",
      "6400/6400 [==============================] - 1s 124us/step - loss: 2.3548e-05 - acc: 1.0000 - val_loss: 1.0470 - val_acc: 0.8581\n",
      "Epoch 91/100\n",
      "6400/6400 [==============================] - 1s 125us/step - loss: 2.2466e-05 - acc: 1.0000 - val_loss: 1.0484 - val_acc: 0.8581\n",
      "Epoch 92/100\n",
      "6400/6400 [==============================] - 1s 125us/step - loss: 2.2155e-05 - acc: 1.0000 - val_loss: 1.0500 - val_acc: 0.8575\n",
      "Epoch 93/100\n",
      "6400/6400 [==============================] - 1s 126us/step - loss: 1.9536e-05 - acc: 1.0000 - val_loss: 1.0526 - val_acc: 0.8575\n",
      "Epoch 94/100\n",
      "6400/6400 [==============================] - 1s 125us/step - loss: 1.8294e-05 - acc: 1.0000 - val_loss: 1.0551 - val_acc: 0.8581\n",
      "Epoch 95/100\n",
      "6400/6400 [==============================] - 1s 125us/step - loss: 1.7061e-05 - acc: 1.0000 - val_loss: 1.0563 - val_acc: 0.8581\n",
      "Epoch 96/100\n",
      "6400/6400 [==============================] - 1s 125us/step - loss: 1.7239e-05 - acc: 1.0000 - val_loss: 1.0576 - val_acc: 0.8581\n",
      "Epoch 97/100\n",
      "6400/6400 [==============================] - 1s 126us/step - loss: 1.4880e-05 - acc: 1.0000 - val_loss: 1.0597 - val_acc: 0.8581\n",
      "Epoch 98/100\n",
      "6400/6400 [==============================] - 1s 124us/step - loss: 1.5403e-05 - acc: 1.0000 - val_loss: 1.0616 - val_acc: 0.8581\n",
      "Epoch 99/100\n",
      "6400/6400 [==============================] - 1s 125us/step - loss: 1.5834e-05 - acc: 1.0000 - val_loss: 1.0641 - val_acc: 0.8588\n",
      "Epoch 100/100\n",
      "6400/6400 [==============================] - 1s 126us/step - loss: 1.5872e-05 - acc: 1.0000 - val_loss: 1.0651 - val_acc: 0.8588\n"
     ]
    }
   ],
   "source": [
    "classify_train = full_model.fit(train_X, train_label, batch_size=64,epochs=100,verbose=1,validation_data=(valid_X, valid_label))"
   ]
  },
  {
   "cell_type": "code",
   "execution_count": 93,
   "metadata": {},
   "outputs": [],
   "source": [
    "full_model.save_weights('autoencoder_classification.h5')"
   ]
  },
  {
   "cell_type": "code",
   "execution_count": 94,
   "metadata": {},
   "outputs": [],
   "source": [
    "for layer in full_model.layers[0:19]:\n",
    "    layer.trainable = True"
   ]
  },
  {
   "cell_type": "code",
   "execution_count": 95,
   "metadata": {},
   "outputs": [],
   "source": [
    "full_model.compile(loss=keras.losses.categorical_crossentropy, optimizer=keras.optimizers.Adam(),metrics=['accuracy'])"
   ]
  },
  {
   "cell_type": "code",
   "execution_count": 96,
   "metadata": {},
   "outputs": [
    {
     "name": "stdout",
     "output_type": "stream",
     "text": [
      "Train on 6400 samples, validate on 1600 samples\n",
      "Epoch 1/100\n",
      "6400/6400 [==============================] - 6s 886us/step - loss: 0.0756 - acc: 0.9842 - val_loss: 1.1657 - val_acc: 0.8269\n",
      "Epoch 2/100\n",
      "6400/6400 [==============================] - 2s 286us/step - loss: 0.0701 - acc: 0.9813 - val_loss: 1.1240 - val_acc: 0.8475\n",
      "Epoch 3/100\n",
      "6400/6400 [==============================] - 2s 287us/step - loss: 0.0699 - acc: 0.9814 - val_loss: 1.1396 - val_acc: 0.8281\n",
      "Epoch 4/100\n",
      "6400/6400 [==============================] - 2s 284us/step - loss: 0.0575 - acc: 0.9838 - val_loss: 1.0339 - val_acc: 0.8462\n",
      "Epoch 5/100\n",
      "6400/6400 [==============================] - 2s 284us/step - loss: 0.0360 - acc: 0.9878 - val_loss: 1.0356 - val_acc: 0.8506\n",
      "Epoch 6/100\n",
      "6400/6400 [==============================] - 2s 283us/step - loss: 0.0224 - acc: 0.9930 - val_loss: 0.9913 - val_acc: 0.8525\n",
      "Epoch 7/100\n",
      "6400/6400 [==============================] - 2s 286us/step - loss: 0.0089 - acc: 0.9969 - val_loss: 1.0262 - val_acc: 0.8475\n",
      "Epoch 8/100\n",
      "6400/6400 [==============================] - 2s 286us/step - loss: 0.0019 - acc: 0.9991 - val_loss: 1.0149 - val_acc: 0.8569\n",
      "Epoch 9/100\n",
      "6400/6400 [==============================] - 2s 285us/step - loss: 4.8661e-04 - acc: 1.0000 - val_loss: 1.0234 - val_acc: 0.8688\n",
      "Epoch 10/100\n",
      "6400/6400 [==============================] - 2s 285us/step - loss: 1.0157e-04 - acc: 1.0000 - val_loss: 1.0195 - val_acc: 0.8688\n",
      "Epoch 11/100\n",
      "6400/6400 [==============================] - 2s 284us/step - loss: 7.8755e-05 - acc: 1.0000 - val_loss: 1.0219 - val_acc: 0.8688\n",
      "Epoch 12/100\n",
      "6400/6400 [==============================] - 2s 284us/step - loss: 5.6432e-05 - acc: 1.0000 - val_loss: 1.0261 - val_acc: 0.8688\n",
      "Epoch 13/100\n",
      "6400/6400 [==============================] - 2s 285us/step - loss: 4.9256e-05 - acc: 1.0000 - val_loss: 1.0289 - val_acc: 0.8681\n",
      "Epoch 14/100\n",
      "6400/6400 [==============================] - 2s 287us/step - loss: 4.5011e-05 - acc: 1.0000 - val_loss: 1.0319 - val_acc: 0.8681\n",
      "Epoch 15/100\n",
      "6400/6400 [==============================] - 2s 285us/step - loss: 4.1361e-05 - acc: 1.0000 - val_loss: 1.0323 - val_acc: 0.8688\n",
      "Epoch 16/100\n",
      "6400/6400 [==============================] - 2s 286us/step - loss: 3.6401e-05 - acc: 1.0000 - val_loss: 1.0358 - val_acc: 0.8688\n",
      "Epoch 17/100\n",
      "6400/6400 [==============================] - 2s 285us/step - loss: 3.4299e-05 - acc: 1.0000 - val_loss: 1.0382 - val_acc: 0.8681\n",
      "Epoch 18/100\n",
      "6400/6400 [==============================] - 2s 282us/step - loss: 2.9208e-05 - acc: 1.0000 - val_loss: 1.0407 - val_acc: 0.8675\n",
      "Epoch 19/100\n",
      "6400/6400 [==============================] - 2s 288us/step - loss: 2.7185e-05 - acc: 1.0000 - val_loss: 1.0428 - val_acc: 0.8675\n",
      "Epoch 20/100\n",
      "6400/6400 [==============================] - 2s 287us/step - loss: 2.4065e-05 - acc: 1.0000 - val_loss: 1.0461 - val_acc: 0.8669\n",
      "Epoch 21/100\n",
      "6400/6400 [==============================] - 2s 287us/step - loss: 2.2095e-05 - acc: 1.0000 - val_loss: 1.0487 - val_acc: 0.8675\n",
      "Epoch 22/100\n",
      "6400/6400 [==============================] - 2s 286us/step - loss: 2.1560e-05 - acc: 1.0000 - val_loss: 1.0510 - val_acc: 0.8688\n",
      "Epoch 23/100\n",
      "6400/6400 [==============================] - 2s 290us/step - loss: 1.8165e-05 - acc: 1.0000 - val_loss: 1.0527 - val_acc: 0.8688\n",
      "Epoch 24/100\n",
      "6400/6400 [==============================] - 2s 284us/step - loss: 1.7556e-05 - acc: 1.0000 - val_loss: 1.0545 - val_acc: 0.8688\n",
      "Epoch 25/100\n",
      "6400/6400 [==============================] - 2s 287us/step - loss: 1.6092e-05 - acc: 1.0000 - val_loss: 1.0570 - val_acc: 0.8688\n",
      "Epoch 26/100\n",
      "6400/6400 [==============================] - 2s 285us/step - loss: 1.5091e-05 - acc: 1.0000 - val_loss: 1.0588 - val_acc: 0.8688\n",
      "Epoch 27/100\n",
      "6400/6400 [==============================] - 2s 287us/step - loss: 1.5800e-05 - acc: 1.0000 - val_loss: 1.0608 - val_acc: 0.8688\n",
      "Epoch 28/100\n",
      "6400/6400 [==============================] - 2s 285us/step - loss: 1.2456e-05 - acc: 1.0000 - val_loss: 1.0625 - val_acc: 0.8688\n",
      "Epoch 29/100\n",
      "6400/6400 [==============================] - 2s 285us/step - loss: 1.2808e-05 - acc: 1.0000 - val_loss: 1.0647 - val_acc: 0.8694\n",
      "Epoch 30/100\n",
      "6400/6400 [==============================] - 2s 288us/step - loss: 1.2639e-05 - acc: 1.0000 - val_loss: 1.0673 - val_acc: 0.8694\n",
      "Epoch 31/100\n",
      "6400/6400 [==============================] - 2s 286us/step - loss: 1.0985e-05 - acc: 1.0000 - val_loss: 1.0686 - val_acc: 0.8694\n",
      "Epoch 32/100\n",
      "6400/6400 [==============================] - 2s 288us/step - loss: 9.9049e-06 - acc: 1.0000 - val_loss: 1.0694 - val_acc: 0.8700\n",
      "Epoch 33/100\n",
      "6400/6400 [==============================] - 2s 288us/step - loss: 9.5188e-06 - acc: 1.0000 - val_loss: 1.0714 - val_acc: 0.8700\n",
      "Epoch 34/100\n",
      "6400/6400 [==============================] - 2s 287us/step - loss: 9.0834e-06 - acc: 1.0000 - val_loss: 1.0732 - val_acc: 0.8694\n",
      "Epoch 35/100\n",
      "6400/6400 [==============================] - 2s 285us/step - loss: 8.3988e-06 - acc: 1.0000 - val_loss: 1.0747 - val_acc: 0.8700\n",
      "Epoch 36/100\n",
      "6400/6400 [==============================] - 2s 289us/step - loss: 7.5374e-06 - acc: 1.0000 - val_loss: 1.0760 - val_acc: 0.8700\n",
      "Epoch 37/100\n",
      "6400/6400 [==============================] - 2s 287us/step - loss: 7.9599e-06 - acc: 1.0000 - val_loss: 1.0781 - val_acc: 0.8700\n",
      "Epoch 38/100\n",
      "6400/6400 [==============================] - 2s 286us/step - loss: 7.5861e-06 - acc: 1.0000 - val_loss: 1.0782 - val_acc: 0.8694\n",
      "Epoch 39/100\n",
      "6400/6400 [==============================] - 2s 285us/step - loss: 6.7061e-06 - acc: 1.0000 - val_loss: 1.0802 - val_acc: 0.8694\n",
      "Epoch 40/100\n",
      "6400/6400 [==============================] - 2s 283us/step - loss: 6.7865e-06 - acc: 1.0000 - val_loss: 1.0817 - val_acc: 0.8688\n",
      "Epoch 41/100\n",
      "6400/6400 [==============================] - 2s 285us/step - loss: 5.8019e-06 - acc: 1.0000 - val_loss: 1.0838 - val_acc: 0.8688\n",
      "Epoch 42/100\n",
      "6400/6400 [==============================] - 2s 284us/step - loss: 5.5750e-06 - acc: 1.0000 - val_loss: 1.0853 - val_acc: 0.8688\n",
      "Epoch 43/100\n",
      "6400/6400 [==============================] - 2s 286us/step - loss: 5.3771e-06 - acc: 1.0000 - val_loss: 1.0867 - val_acc: 0.8688\n",
      "Epoch 44/100\n",
      "6400/6400 [==============================] - 2s 283us/step - loss: 5.2339e-06 - acc: 1.0000 - val_loss: 1.0889 - val_acc: 0.8694\n",
      "Epoch 45/100\n",
      "6400/6400 [==============================] - 2s 284us/step - loss: 4.9453e-06 - acc: 1.0000 - val_loss: 1.0900 - val_acc: 0.8694\n",
      "Epoch 46/100\n",
      "6400/6400 [==============================] - 2s 287us/step - loss: 4.7477e-06 - acc: 1.0000 - val_loss: 1.0905 - val_acc: 0.8694\n",
      "Epoch 47/100\n",
      "6400/6400 [==============================] - 2s 286us/step - loss: 4.5202e-06 - acc: 1.0000 - val_loss: 1.0919 - val_acc: 0.8700\n",
      "Epoch 48/100\n",
      "6400/6400 [==============================] - 2s 284us/step - loss: 4.1267e-06 - acc: 1.0000 - val_loss: 1.0932 - val_acc: 0.8694\n",
      "Epoch 49/100\n",
      "6400/6400 [==============================] - 2s 288us/step - loss: 3.8579e-06 - acc: 1.0000 - val_loss: 1.0953 - val_acc: 0.8694\n",
      "Epoch 50/100\n",
      "6400/6400 [==============================] - 2s 284us/step - loss: 3.7066e-06 - acc: 1.0000 - val_loss: 1.0973 - val_acc: 0.8700\n",
      "Epoch 51/100\n",
      "6400/6400 [==============================] - 2s 283us/step - loss: 3.5474e-06 - acc: 1.0000 - val_loss: 1.0990 - val_acc: 0.8706\n",
      "Epoch 52/100\n",
      "6400/6400 [==============================] - 2s 289us/step - loss: 3.2781e-06 - acc: 1.0000 - val_loss: 1.1011 - val_acc: 0.8706\n",
      "Epoch 53/100\n",
      "6400/6400 [==============================] - 2s 288us/step - loss: 3.1129e-06 - acc: 1.0000 - val_loss: 1.1031 - val_acc: 0.8706\n",
      "Epoch 54/100\n",
      "6400/6400 [==============================] - 2s 286us/step - loss: 2.7700e-06 - acc: 1.0000 - val_loss: 1.1045 - val_acc: 0.8700\n",
      "Epoch 55/100\n",
      "6400/6400 [==============================] - 2s 283us/step - loss: 2.8184e-06 - acc: 1.0000 - val_loss: 1.1060 - val_acc: 0.8700\n",
      "Epoch 56/100\n",
      "6400/6400 [==============================] - 2s 290us/step - loss: 2.7394e-06 - acc: 1.0000 - val_loss: 1.1074 - val_acc: 0.8712\n",
      "Epoch 57/100\n",
      "6400/6400 [==============================] - 2s 283us/step - loss: 2.5827e-06 - acc: 1.0000 - val_loss: 1.1087 - val_acc: 0.8712\n",
      "Epoch 58/100\n",
      "6400/6400 [==============================] - 2s 287us/step - loss: 2.3210e-06 - acc: 1.0000 - val_loss: 1.1105 - val_acc: 0.8712\n",
      "Epoch 59/100\n",
      "6400/6400 [==============================] - 2s 286us/step - loss: 2.2604e-06 - acc: 1.0000 - val_loss: 1.1118 - val_acc: 0.8712\n",
      "Epoch 60/100\n",
      "6400/6400 [==============================] - 2s 287us/step - loss: 2.0698e-06 - acc: 1.0000 - val_loss: 1.1132 - val_acc: 0.8712\n",
      "Epoch 61/100\n",
      "6400/6400 [==============================] - 2s 281us/step - loss: 2.2597e-06 - acc: 1.0000 - val_loss: 1.1151 - val_acc: 0.8712\n",
      "Epoch 62/100\n",
      "6400/6400 [==============================] - 2s 283us/step - loss: 1.9910e-06 - acc: 1.0000 - val_loss: 1.1168 - val_acc: 0.8712\n",
      "Epoch 63/100\n",
      "6400/6400 [==============================] - 2s 286us/step - loss: 1.8665e-06 - acc: 1.0000 - val_loss: 1.1187 - val_acc: 0.8712\n",
      "Epoch 64/100\n",
      "6400/6400 [==============================] - 2s 285us/step - loss: 1.8351e-06 - acc: 1.0000 - val_loss: 1.1204 - val_acc: 0.8712\n",
      "Epoch 65/100\n",
      "6400/6400 [==============================] - 2s 287us/step - loss: 1.6833e-06 - acc: 1.0000 - val_loss: 1.1216 - val_acc: 0.8712\n",
      "Epoch 66/100\n",
      "6400/6400 [==============================] - 2s 282us/step - loss: 1.6634e-06 - acc: 1.0000 - val_loss: 1.1227 - val_acc: 0.8712\n",
      "Epoch 67/100\n",
      "6400/6400 [==============================] - 2s 286us/step - loss: 1.6589e-06 - acc: 1.0000 - val_loss: 1.1232 - val_acc: 0.8719\n",
      "Epoch 68/100\n",
      "6400/6400 [==============================] - 2s 287us/step - loss: 1.4441e-06 - acc: 1.0000 - val_loss: 1.1250 - val_acc: 0.8719\n",
      "Epoch 69/100\n",
      "6400/6400 [==============================] - 2s 284us/step - loss: 1.4398e-06 - acc: 1.0000 - val_loss: 1.1269 - val_acc: 0.8712\n",
      "Epoch 70/100\n",
      "6400/6400 [==============================] - 2s 284us/step - loss: 1.3006e-06 - acc: 1.0000 - val_loss: 1.1281 - val_acc: 0.8712\n",
      "Epoch 71/100\n",
      "6400/6400 [==============================] - 2s 285us/step - loss: 1.2546e-06 - acc: 1.0000 - val_loss: 1.1298 - val_acc: 0.8712\n",
      "Epoch 72/100\n",
      "6400/6400 [==============================] - 2s 285us/step - loss: 1.2299e-06 - acc: 1.0000 - val_loss: 1.1308 - val_acc: 0.8706\n",
      "Epoch 73/100\n",
      "6400/6400 [==============================] - 2s 283us/step - loss: 1.2390e-06 - acc: 1.0000 - val_loss: 1.1316 - val_acc: 0.8706\n",
      "Epoch 74/100\n",
      "6400/6400 [==============================] - 2s 286us/step - loss: 1.1266e-06 - acc: 1.0000 - val_loss: 1.1328 - val_acc: 0.8706\n",
      "Epoch 75/100\n",
      "6400/6400 [==============================] - 2s 286us/step - loss: 1.1014e-06 - acc: 1.0000 - val_loss: 1.1351 - val_acc: 0.8706\n",
      "Epoch 76/100\n",
      "6400/6400 [==============================] - 2s 288us/step - loss: 1.0033e-06 - acc: 1.0000 - val_loss: 1.1367 - val_acc: 0.8700\n",
      "Epoch 77/100\n",
      "6400/6400 [==============================] - 2s 282us/step - loss: 9.5268e-07 - acc: 1.0000 - val_loss: 1.1380 - val_acc: 0.8700\n",
      "Epoch 78/100\n",
      "6400/6400 [==============================] - 2s 285us/step - loss: 9.0874e-07 - acc: 1.0000 - val_loss: 1.1394 - val_acc: 0.8700\n",
      "Epoch 79/100\n",
      "6400/6400 [==============================] - 2s 288us/step - loss: 8.8209e-07 - acc: 1.0000 - val_loss: 1.1420 - val_acc: 0.8700\n",
      "Epoch 80/100\n",
      "6400/6400 [==============================] - 2s 301us/step - loss: 8.4639e-07 - acc: 1.0000 - val_loss: 1.1432 - val_acc: 0.8706\n",
      "Epoch 81/100\n",
      "6400/6400 [==============================] - 2s 286us/step - loss: 8.3295e-07 - acc: 1.0000 - val_loss: 1.1431 - val_acc: 0.8700\n",
      "Epoch 82/100\n",
      "6400/6400 [==============================] - 2s 292us/step - loss: 7.6046e-07 - acc: 1.0000 - val_loss: 1.1450 - val_acc: 0.8700\n",
      "Epoch 83/100\n",
      "6400/6400 [==============================] - 2s 286us/step - loss: 7.3339e-07 - acc: 1.0000 - val_loss: 1.1467 - val_acc: 0.8700\n",
      "Epoch 84/100\n",
      "6400/6400 [==============================] - 2s 282us/step - loss: 7.3314e-07 - acc: 1.0000 - val_loss: 1.1484 - val_acc: 0.8706\n",
      "Epoch 85/100\n",
      "6400/6400 [==============================] - 2s 294us/step - loss: 7.0631e-07 - acc: 1.0000 - val_loss: 1.1504 - val_acc: 0.8706\n",
      "Epoch 86/100\n",
      "6400/6400 [==============================] - 2s 284us/step - loss: 6.0903e-07 - acc: 1.0000 - val_loss: 1.1512 - val_acc: 0.8706\n",
      "Epoch 87/100\n",
      "6400/6400 [==============================] - 2s 286us/step - loss: 6.2029e-07 - acc: 1.0000 - val_loss: 1.1528 - val_acc: 0.8706\n",
      "Epoch 88/100\n",
      "6400/6400 [==============================] - 2s 289us/step - loss: 6.0829e-07 - acc: 1.0000 - val_loss: 1.1541 - val_acc: 0.8706\n",
      "Epoch 89/100\n",
      "6400/6400 [==============================] - 2s 286us/step - loss: 5.9671e-07 - acc: 1.0000 - val_loss: 1.1553 - val_acc: 0.8700\n",
      "Epoch 90/100\n",
      "6400/6400 [==============================] - 2s 287us/step - loss: 5.0489e-07 - acc: 1.0000 - val_loss: 1.1570 - val_acc: 0.8700\n",
      "Epoch 91/100\n",
      "6400/6400 [==============================] - 2s 287us/step - loss: 5.0459e-07 - acc: 1.0000 - val_loss: 1.1585 - val_acc: 0.8700\n",
      "Epoch 92/100\n",
      "6400/6400 [==============================] - 2s 285us/step - loss: 5.4169e-07 - acc: 1.0000 - val_loss: 1.1606 - val_acc: 0.8700\n",
      "Epoch 93/100\n",
      "6400/6400 [==============================] - 2s 285us/step - loss: 5.0434e-07 - acc: 1.0000 - val_loss: 1.1614 - val_acc: 0.8694\n",
      "Epoch 94/100\n",
      "6400/6400 [==============================] - 2s 283us/step - loss: 4.4151e-07 - acc: 1.0000 - val_loss: 1.1632 - val_acc: 0.8694\n",
      "Epoch 95/100\n",
      "6400/6400 [==============================] - 2s 287us/step - loss: 4.5430e-07 - acc: 1.0000 - val_loss: 1.1644 - val_acc: 0.8694\n",
      "Epoch 96/100\n",
      "6400/6400 [==============================] - 2s 286us/step - loss: 4.1629e-07 - acc: 1.0000 - val_loss: 1.1656 - val_acc: 0.8688\n",
      "Epoch 97/100\n",
      "6400/6400 [==============================] - 2s 283us/step - loss: 4.0381e-07 - acc: 1.0000 - val_loss: 1.1671 - val_acc: 0.8694\n",
      "Epoch 98/100\n",
      "6400/6400 [==============================] - 2s 288us/step - loss: 4.0283e-07 - acc: 1.0000 - val_loss: 1.1685 - val_acc: 0.8700\n",
      "Epoch 99/100\n",
      "6400/6400 [==============================] - 2s 285us/step - loss: 3.6305e-07 - acc: 1.0000 - val_loss: 1.1698 - val_acc: 0.8700\n",
      "Epoch 100/100\n",
      "6400/6400 [==============================] - 2s 287us/step - loss: 3.6086e-07 - acc: 1.0000 - val_loss: 1.1712 - val_acc: 0.8700\n"
     ]
    }
   ],
   "source": [
    "classify_train = full_model.fit(train_X, train_label, batch_size=64,epochs=100,verbose=1,validation_data=(valid_X, valid_label))"
   ]
  },
  {
   "cell_type": "code",
   "execution_count": 97,
   "metadata": {},
   "outputs": [],
   "source": [
    "full_model.save_weights('classification_complete.h5')"
   ]
  },
  {
   "cell_type": "code",
   "execution_count": 98,
   "metadata": {},
   "outputs": [
    {
     "data": {
      "image/png": "[encoded data removed]",
      "text/plain": [
       "<Figure size 432x288 with 1 Axes>"
      ]
     },
     "metadata": {},
     "output_type": "display_data"
    },
    {
     "data": {
      "image/png": "[encoded data removed]",
      "text/plain": [
       "<Figure size 432x288 with 1 Axes>"
      ]
     },
     "metadata": {},
     "output_type": "display_data"
    }
   ],
   "source": [
    "accuracy = classify_train.history['acc']\n",
    "val_accuracy = classify_train.history['val_acc']\n",
    "loss = classify_train.history['loss']\n",
    "val_loss = classify_train.history['val_loss']\n",
    "epochs = range(len(accuracy))\n",
    "plt.plot(epochs, accuracy, 'bo', label='Training accuracy')\n",
    "plt.plot(epochs, val_accuracy, 'b', label='Validation accuracy')\n",
    "plt.title('Training and validation accuracy')\n",
    "plt.legend()\n",
    "plt.figure()\n",
    "plt.plot(epochs, loss, 'bo', label='Training loss')\n",
    "plt.plot(epochs, val_loss, 'b', label='Validation loss')\n",
    "plt.title('Training and validation loss')\n",
    "plt.legend()\n",
    "plt.show()"
   ]
  },
  {
   "cell_type": "markdown",
   "metadata": {},
   "source": [
    "From the above two plots, you can see that the model is overfitting since there is a big gap between the training and validation loss. In order to address overfitting, you will have to maybe use some regularization techniques like Dropout"
   ]
  },
  {
   "cell_type": "code",
   "execution_count": 116,
   "metadata": {},
   "outputs": [],
   "source": [
    "predicted_classes = full_model.predict(train_data)"
   ]
  },
  {
   "cell_type": "code",
   "execution_count": 117,
   "metadata": {},
   "outputs": [],
   "source": [
    "predicted_classes = np.argmax(np.round(predicted_classes),axis=1)"
   ]
  },
  {
   "cell_type": "code",
   "execution_count": 115,
   "metadata": {},
   "outputs": [
    {
     "data": {
      "text/plain": [
       "((1600,), (1600, 7))"
      ]
     },
     "execution_count": 115,
     "metadata": {},
     "output_type": "execute_result"
    }
   ],
   "source": []
  },
  {
   "cell_type": "code",
   "execution_count": 122,
   "metadata": {},
   "outputs": [
    {
     "name": "stdout",
     "output_type": "stream",
     "text": [
      "              precision    recall  f1-score   support\n",
      "\n",
      "     Class 0       0.96      0.97      0.97      2000\n",
      "     Class 1       0.98      0.98      0.98      2000\n",
      "     Class 2       0.98      0.99      0.99      2000\n",
      "     Class 3       0.97      0.95      0.96      2000\n",
      "\n",
      "   micro avg       0.97      0.97      0.97      8000\n",
      "   macro avg       0.97      0.97      0.97      8000\n",
      "weighted avg       0.97      0.97      0.97      8000\n",
      "\n"
     ]
    }
   ],
   "source": [
    "from sklearn.metrics import classification_report\n",
    "target_names = [\"Class {}\".format(i) for i in range(4)]\n",
    "print(classification_report(label, predicted_classes,target_names=target_names))"
   ]
  },
  {
   "cell_type": "code",
   "execution_count": 123,
   "metadata": {},
   "outputs": [],
   "source": [
    "predictions = full_model.predict(test_data)"
   ]
  },
  {
   "cell_type": "code",
   "execution_count": 125,
   "metadata": {},
   "outputs": [],
   "source": [
    "predictions = np.argmax(np.round(predictions),axis=1)"
   ]
  },
  {
   "cell_type": "code",
   "execution_count": 126,
   "metadata": {},
   "outputs": [],
   "source": [
    "res = {'image_index':range(0,2000),'class':predictions}"
   ]
  },
  {
   "cell_type": "code",
   "execution_count": 127,
   "metadata": {},
   "outputs": [],
   "source": [
    "df = pd.DataFrame(res)"
   ]
  },
  {
   "cell_type": "code",
   "execution_count": 128,
   "metadata": {},
   "outputs": [
    {
     "data": {
      "text/html": [
       "<div>\n",
       "<style scoped>\n",
       "    .dataframe tbody tr th:only-of-type {\n",
       "        vertical-align: middle;\n",
       "    }\n",
       "\n",
       "    .dataframe tbody tr th {\n",
       "        vertical-align: top;\n",
       "    }\n",
       "\n",
       "    .dataframe thead th {\n",
       "        text-align: right;\n",
       "    }\n",
       "</style>\n",
       "<table border=\"1\" class=\"dataframe\">\n",
       "  <thead>\n",
       "    <tr style=\"text-align: right;\">\n",
       "      <th></th>\n",
       "      <th>image_index</th>\n",
       "      <th>class</th>\n",
       "    </tr>\n",
       "  </thead>\n",
       "  <tbody>\n",
       "    <tr>\n",
       "      <th>0</th>\n",
       "      <td>0</td>\n",
       "      <td>0</td>\n",
       "    </tr>\n",
       "    <tr>\n",
       "      <th>1</th>\n",
       "      <td>1</td>\n",
       "      <td>0</td>\n",
       "    </tr>\n",
       "    <tr>\n",
       "      <th>2</th>\n",
       "      <td>2</td>\n",
       "      <td>0</td>\n",
       "    </tr>\n",
       "    <tr>\n",
       "      <th>3</th>\n",
       "      <td>3</td>\n",
       "      <td>0</td>\n",
       "    </tr>\n",
       "    <tr>\n",
       "      <th>4</th>\n",
       "      <td>4</td>\n",
       "      <td>0</td>\n",
       "    </tr>\n",
       "  </tbody>\n",
       "</table>\n",
       "</div>"
      ],
      "text/plain": [
       "   image_index  class\n",
       "0            0      0\n",
       "1            1      0\n",
       "2            2      0\n",
       "3            3      0\n",
       "4            4      0"
      ]
     },
     "execution_count": 128,
     "metadata": {},
     "output_type": "execute_result"
    }
   ],
   "source": [
    "df.head()"
   ]
  },
  {
   "cell_type": "code",
   "execution_count": 1,
   "metadata": {},
   "outputs": [
    {
     "ename": "NameError",
     "evalue": "name 'df' is not defined",
     "output_type": "error",
     "traceback": [
      "\u001b[1;31m---------------------------------------------------------------------------\u001b[0m",
      "\u001b[1;31mNameError\u001b[0m                                 Traceback (most recent call last)",
      "\u001b[1;32m<ipython-input-1-50395e9f8ff7>\u001b[0m in \u001b[0;36m<module>\u001b[1;34m()\u001b[0m\n\u001b[1;32m----> 1\u001b[1;33m \u001b[0mdf\u001b[0m\u001b[1;33m.\u001b[0m\u001b[0mto_csv\u001b[0m\u001b[1;33m(\u001b[0m\u001b[1;34m'Pooja_Agarwal.csv'\u001b[0m\u001b[1;33m)\u001b[0m\u001b[1;33m\u001b[0m\u001b[0m\n\u001b[0m",
      "\u001b[1;31mNameError\u001b[0m: name 'df' is not defined"
     ]
    }
   ],
   "source": [
    "df.to_csv('Pooja_Agarwal.csv')"
   ]
  },
  {
   "cell_type": "code",
   "execution_count": null,
   "metadata": {},
   "outputs": [],
   "source": []
  }
 ],
 "metadata": {
  "kernelspec": {
   "display_name": "Python 3",
   "language": "python",
   "name": "python3"
  },
  "language_info": {
   "codemirror_mode": {
    "name": "ipython",
    "version": 3
   },
   "file_extension": ".py",
   "mimetype": "text/x-python",
   "name": "python",
   "nbconvert_exporter": "python",
   "pygments_lexer": "ipython3",
   "version": "3.6.4"
  }
 },
 "nbformat": 4,
 "nbformat_minor": 1
}
