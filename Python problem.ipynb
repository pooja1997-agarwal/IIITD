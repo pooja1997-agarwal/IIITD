{
 "cells": [
  {
   "cell_type": "code",
   "execution_count": 1,
   "metadata": {},
   "outputs": [],
   "source": [
    "from tweepy.streaming import StreamListener\n",
    "from tweepy import OAuthHandler\n",
    "from tweepy import Stream\n",
    "from tweepy import API \n",
    "from tweepy import Cursor"
   ]
  },
  {
   "cell_type": "code",
   "execution_count": 2,
   "metadata": {},
   "outputs": [],
   "source": [
    "consumer_key='qcCU8SXNbYan2cAZ4apDqXP5r'\n",
    "consumer_secret='kzUFaP9UHeK7yBofQZ1veZZP2Tf0fLX05UBWircs9wizJv95Jg'\n",
    "access_token='1090283141414043649-O6xtwiJfCfKYWGLRXxMw9FolevIiN3'\n",
    "access_secret='9WE1BYqyTvCqMkBb8WdpjtN4to4hWc4UL83wOg3ug3Hod'"
   ]
  },
  {
   "cell_type": "code",
   "execution_count": 3,
   "metadata": {},
   "outputs": [],
   "source": [
    "class TwitterClient():\n",
    "    def __init__(self, twitter_user=None):\n",
    "        self.auth = TwitterAuthenticator().authenticate_twitter_app()\n",
    "        self.twitter_client = API(self.auth)\n",
    "\n",
    "        self.twitter_user = twitter_user\n",
    "        \n",
    "    def get_twitter_client_api(self):\n",
    "        return self.twitter_client\n",
    "\n",
    "    def get_user_timeline_tweets(self, num_tweets):\n",
    "        tweets = []\n",
    "        for tweet in Cursor(self.twitter_client.user_timeline, id=self.twitter_user).items(num_tweets):\n",
    "            tweets.append(tweet)\n",
    "        return tweets\n",
    "\n",
    "    def get_friend_list(self, num_friends):\n",
    "        friend_list = []\n",
    "        for friend in Cursor(self.twitter_client.friends, id=self.twitter_user).items(num_friends):\n",
    "            friend_list.append(friend)\n",
    "        return friend_list\n",
    "\n",
    "    def get_home_timeline_tweets(self, num_tweets):\n",
    "        home_timeline_tweets = []\n",
    "        for tweet in Cursor(self.twitter_client.home_timeline, id=self.twitter_user).items(num_tweets):\n",
    "            home_timeline_tweets.append(tweet)\n",
    "        return home_timeline_tweets"
   ]
  },
  {
   "cell_type": "code",
   "execution_count": 4,
   "metadata": {},
   "outputs": [],
   "source": [
    "# # # # TWITTER AUTHENTICATER # # # #\n",
    "class TwitterAuthenticator():\n",
    "\n",
    "    def authenticate_twitter_app(self):\n",
    "        auth = OAuthHandler(consumer_key, consumer_secret)\n",
    "        auth.set_access_token(access_token,access_secret)\n",
    "        return auth"
   ]
  },
  {
   "cell_type": "code",
   "execution_count": 5,
   "metadata": {},
   "outputs": [],
   "source": [
    "class TwitterStreamer():\n",
    "    \"\"\"\n",
    "    Class for streaming and processing live tweets.\n",
    "    \"\"\"\n",
    "    def __init__(self):\n",
    "        self.twitter_autenticator = TwitterAuthenticator() \n",
    "\n",
    "    def stream_tweets(self, fetched_tweets_filename, hash_tag_list):\n",
    "        # This handles Twitter authetification and the connection to Twitter Streaming API\n",
    "        listener = TwitterListener(fetched_tweets_filename)\n",
    "        auth = self.twitter_autenticator.authenticate_twitter_app() \n",
    "        stream = Stream(auth, listener)\n",
    "\n",
    "        # This line filter Twitter Streams to capture data by the keywords: \n",
    "        stream.filter(track=hash_tag_list)"
   ]
  },
  {
   "cell_type": "code",
   "execution_count": 6,
   "metadata": {},
   "outputs": [],
   "source": [
    "# # # # TWITTER STREAM LISTENER # # # #\n",
    "class TwitterListener(StreamListener):\n",
    "    \"\"\"\n",
    "    This is a basic listener that just prints received tweets to stdout.\n",
    "    \"\"\"\n",
    "    def __init__(self, fetched_tweets_filename):\n",
    "        self.fetched_tweets_filename = fetched_tweets_filename\n",
    "\n",
    "    def on_data(self, data):\n",
    "        try:\n",
    "            print(data)\n",
    "            with open(self.fetched_tweets_filename, 'a') as tf:\n",
    "                tf.write(data)\n",
    "            return True\n",
    "        except BaseException as e:\n",
    "            print(\"Error on_data %s\" % str(e))\n",
    "        return True\n",
    "          \n",
    "    def on_error(self, status):\n",
    "        if status == 420:\n",
    "            # Returning False on_data method in case rate limit occurs.\n",
    "            return False\n",
    "        print(status)"
   ]
  },
  {
   "cell_type": "code",
   "execution_count": 8,
   "metadata": {},
   "outputs": [
    {
     "name": "stdout",
     "output_type": "stream",
     "text": [
      "[Status(_api=<tweepy.api.API object at 0x00000160283DCF60>, _json={'created_at': 'Fri Apr 05 23:13:00 +0000 2019', 'id': 1114304963759542272, 'id_str': '1114304963759542272', 'text': \"Don't forget to visit the #pycon2019 Job Fair on Sunday, May 5! You won't find a better place to talk to companies… https://t.co/a97J0v4U5N\", 'truncated': True, 'entities': {'hashtags': [{'text': 'pycon2019', 'indices': [26, 36]}], 'symbols': [], 'user_mentions': [], 'urls': [{'url': 'https://t.co/a97J0v4U5N', 'expanded_url': 'https://twitter.com/i/web/status/1114304963759542272', 'display_url': 'twitter.com/i/web/status/1…', 'indices': [116, 139]}]}, 'source': '<a href=\"https://sproutsocial.com\" rel=\"nofollow\">Sprout Social</a>', 'in_reply_to_status_id': None, 'in_reply_to_status_id_str': None, 'in_reply_to_user_id': None, 'in_reply_to_user_id_str': None, 'in_reply_to_screen_name': None, 'user': {'id': 9475182, 'id_str': '9475182', 'name': 'PyCon', 'screen_name': 'pycon', 'location': 'Cleveland, OH', 'description': 'PyCon 2019 returns May 1–9 in Cleveland, OH with talks, tutorials, sprints, and more! Tweet about it! #pycon2019.', 'url': 'https://t.co/cDA7VmP4hV', 'entities': {'url': {'urls': [{'url': 'https://t.co/cDA7VmP4hV', 'expanded_url': 'http://us.pycon.org', 'display_url': 'us.pycon.org', 'indices': [0, 23]}]}, 'description': {'urls': []}}, 'protected': False, 'followers_count': 41671, 'friends_count': 6, 'listed_count': 982, 'created_at': 'Tue Oct 16 11:17:41 +0000 2007', 'favourites_count': 989, 'utc_offset': None, 'time_zone': None, 'geo_enabled': False, 'verified': False, 'statuses_count': 3754, 'lang': 'en', 'contributors_enabled': False, 'is_translator': False, 'is_translation_enabled': False, 'profile_background_color': '131516', 'profile_background_image_url': 'http://abs.twimg.com/images/themes/theme14/bg.gif', 'profile_background_image_url_https': 'https://abs.twimg.com/images/themes/theme14/bg.gif', 'profile_background_tile': True, 'profile_image_url': 'http://pbs.twimg.com/profile_images/1034096352366448641/1K7iE1ES_normal.jpg', 'profile_image_url_https': 'https://pbs.twimg.com/profile_images/1034096352366448641/1K7iE1ES_normal.jpg', 'profile_banner_url': 'https://pbs.twimg.com/profile_banners/9475182/1535030998', 'profile_link_color': '009CBD', 'profile_sidebar_border_color': 'FFFFFF', 'profile_sidebar_fill_color': 'DDEEF6', 'profile_text_color': '333333', 'profile_use_background_image': False, 'has_extended_profile': False, 'default_profile': False, 'default_profile_image': False, 'following': False, 'follow_request_sent': False, 'notifications': False, 'translator_type': 'none'}, 'geo': None, 'coordinates': None, 'place': None, 'contributors': None, 'is_quote_status': False, 'retweet_count': 8, 'favorite_count': 10, 'favorited': False, 'retweeted': False, 'possibly_sensitive': False, 'lang': 'en'}, created_at=datetime.datetime(2019, 4, 5, 23, 13), id=1114304963759542272, id_str='1114304963759542272', text=\"Don't forget to visit the #pycon2019 Job Fair on Sunday, May 5! You won't find a better place to talk to companies… https://t.co/a97J0v4U5N\", truncated=True, entities={'hashtags': [{'text': 'pycon2019', 'indices': [26, 36]}], 'symbols': [], 'user_mentions': [], 'urls': [{'url': 'https://t.co/a97J0v4U5N', 'expanded_url': 'https://twitter.com/i/web/status/1114304963759542272', 'display_url': 'twitter.com/i/web/status/1…', 'indices': [116, 139]}]}, source='Sprout Social', source_url='https://sproutsocial.com', in_reply_to_status_id=None, in_reply_to_status_id_str=None, in_reply_to_user_id=None, in_reply_to_user_id_str=None, in_reply_to_screen_name=None, author=User(_api=<tweepy.api.API object at 0x00000160283DCF60>, _json={'id': 9475182, 'id_str': '9475182', 'name': 'PyCon', 'screen_name': 'pycon', 'location': 'Cleveland, OH', 'description': 'PyCon 2019 returns May 1–9 in Cleveland, OH with talks, tutorials, sprints, and more! Tweet about it! #pycon2019.', 'url': 'https://t.co/cDA7VmP4hV', 'entities': {'url': {'urls': [{'url': 'https://t.co/cDA7VmP4hV', 'expanded_url': 'http://us.pycon.org', 'display_url': 'us.pycon.org', 'indices': [0, 23]}]}, 'description': {'urls': []}}, 'protected': False, 'followers_count': 41671, 'friends_count': 6, 'listed_count': 982, 'created_at': 'Tue Oct 16 11:17:41 +0000 2007', 'favourites_count': 989, 'utc_offset': None, 'time_zone': None, 'geo_enabled': False, 'verified': False, 'statuses_count': 3754, 'lang': 'en', 'contributors_enabled': False, 'is_translator': False, 'is_translation_enabled': False, 'profile_background_color': '131516', 'profile_background_image_url': 'http://abs.twimg.com/images/themes/theme14/bg.gif', 'profile_background_image_url_https': 'https://abs.twimg.com/images/themes/theme14/bg.gif', 'profile_background_tile': True, 'profile_image_url': 'http://pbs.twimg.com/profile_images/1034096352366448641/1K7iE1ES_normal.jpg', 'profile_image_url_https': 'https://pbs.twimg.com/profile_images/1034096352366448641/1K7iE1ES_normal.jpg', 'profile_banner_url': 'https://pbs.twimg.com/profile_banners/9475182/1535030998', 'profile_link_color': '009CBD', 'profile_sidebar_border_color': 'FFFFFF', 'profile_sidebar_fill_color': 'DDEEF6', 'profile_text_color': '333333', 'profile_use_background_image': False, 'has_extended_profile': False, 'default_profile': False, 'default_profile_image': False, 'following': False, 'follow_request_sent': False, 'notifications': False, 'translator_type': 'none'}, id=9475182, id_str='9475182', name='PyCon', screen_name='pycon', location='Cleveland, OH', description='PyCon 2019 returns May 1–9 in Cleveland, OH with talks, tutorials, sprints, and more! Tweet about it! #pycon2019.', url='https://t.co/cDA7VmP4hV', entities={'url': {'urls': [{'url': 'https://t.co/cDA7VmP4hV', 'expanded_url': 'http://us.pycon.org', 'display_url': 'us.pycon.org', 'indices': [0, 23]}]}, 'description': {'urls': []}}, protected=False, followers_count=41671, friends_count=6, listed_count=982, created_at=datetime.datetime(2007, 10, 16, 11, 17, 41), favourites_count=989, utc_offset=None, time_zone=None, geo_enabled=False, verified=False, statuses_count=3754, lang='en', contributors_enabled=False, is_translator=False, is_translation_enabled=False, profile_background_color='131516', profile_background_image_url='http://abs.twimg.com/images/themes/theme14/bg.gif', profile_background_image_url_https='https://abs.twimg.com/images/themes/theme14/bg.gif', profile_background_tile=True, profile_image_url='http://pbs.twimg.com/profile_images/1034096352366448641/1K7iE1ES_normal.jpg', profile_image_url_https='https://pbs.twimg.com/profile_images/1034096352366448641/1K7iE1ES_normal.jpg', profile_banner_url='https://pbs.twimg.com/profile_banners/9475182/1535030998', profile_link_color='009CBD', profile_sidebar_border_color='FFFFFF', profile_sidebar_fill_color='DDEEF6', profile_text_color='333333', profile_use_background_image=False, has_extended_profile=False, default_profile=False, default_profile_image=False, following=False, follow_request_sent=False, notifications=False, translator_type='none'), user=User(_api=<tweepy.api.API object at 0x00000160283DCF60>, _json={'id': 9475182, 'id_str': '9475182', 'name': 'PyCon', 'screen_name': 'pycon', 'location': 'Cleveland, OH', 'description': 'PyCon 2019 returns May 1–9 in Cleveland, OH with talks, tutorials, sprints, and more! Tweet about it! #pycon2019.', 'url': 'https://t.co/cDA7VmP4hV', 'entities': {'url': {'urls': [{'url': 'https://t.co/cDA7VmP4hV', 'expanded_url': 'http://us.pycon.org', 'display_url': 'us.pycon.org', 'indices': [0, 23]}]}, 'description': {'urls': []}}, 'protected': False, 'followers_count': 41671, 'friends_count': 6, 'listed_count': 982, 'created_at': 'Tue Oct 16 11:17:41 +0000 2007', 'favourites_count': 989, 'utc_offset': None, 'time_zone': None, 'geo_enabled': False, 'verified': False, 'statuses_count': 3754, 'lang': 'en', 'contributors_enabled': False, 'is_translator': False, 'is_translation_enabled': False, 'profile_background_color': '131516', 'profile_background_image_url': 'http://abs.twimg.com/images/themes/theme14/bg.gif', 'profile_background_image_url_https': 'https://abs.twimg.com/images/themes/theme14/bg.gif', 'profile_background_tile': True, 'profile_image_url': 'http://pbs.twimg.com/profile_images/1034096352366448641/1K7iE1ES_normal.jpg', 'profile_image_url_https': 'https://pbs.twimg.com/profile_images/1034096352366448641/1K7iE1ES_normal.jpg', 'profile_banner_url': 'https://pbs.twimg.com/profile_banners/9475182/1535030998', 'profile_link_color': '009CBD', 'profile_sidebar_border_color': 'FFFFFF', 'profile_sidebar_fill_color': 'DDEEF6', 'profile_text_color': '333333', 'profile_use_background_image': False, 'has_extended_profile': False, 'default_profile': False, 'default_profile_image': False, 'following': False, 'follow_request_sent': False, 'notifications': False, 'translator_type': 'none'}, id=9475182, id_str='9475182', name='PyCon', screen_name='pycon', location='Cleveland, OH', description='PyCon 2019 returns May 1–9 in Cleveland, OH with talks, tutorials, sprints, and more! Tweet about it! #pycon2019.', url='https://t.co/cDA7VmP4hV', entities={'url': {'urls': [{'url': 'https://t.co/cDA7VmP4hV', 'expanded_url': 'http://us.pycon.org', 'display_url': 'us.pycon.org', 'indices': [0, 23]}]}, 'description': {'urls': []}}, protected=False, followers_count=41671, friends_count=6, listed_count=982, created_at=datetime.datetime(2007, 10, 16, 11, 17, 41), favourites_count=989, utc_offset=None, time_zone=None, geo_enabled=False, verified=False, statuses_count=3754, lang='en', contributors_enabled=False, is_translator=False, is_translation_enabled=False, profile_background_color='131516', profile_background_image_url='http://abs.twimg.com/images/themes/theme14/bg.gif', profile_background_image_url_https='https://abs.twimg.com/images/themes/theme14/bg.gif', profile_background_tile=True, profile_image_url='http://pbs.twimg.com/profile_images/1034096352366448641/1K7iE1ES_normal.jpg', profile_image_url_https='https://pbs.twimg.com/profile_images/1034096352366448641/1K7iE1ES_normal.jpg', profile_banner_url='https://pbs.twimg.com/profile_banners/9475182/1535030998', profile_link_color='009CBD', profile_sidebar_border_color='FFFFFF', profile_sidebar_fill_color='DDEEF6', profile_text_color='333333', profile_use_background_image=False, has_extended_profile=False, default_profile=False, default_profile_image=False, following=False, follow_request_sent=False, notifications=False, translator_type='none'), geo=None, coordinates=None, place=None, contributors=None, is_quote_status=False, retweet_count=8, favorite_count=10, favorited=False, retweeted=False, possibly_sensitive=False, lang='en')]\n"
     ]
    }
   ],
   "source": [
    "if __name__ == '__main__':\n",
    " \n",
    "    # Authenticate using config.py and connect to Twitter Streaming API.\n",
    "    hash_tag_list = [\"midas\",\"iiitd\"]\n",
    "    fetched_tweets_filename = \"tweets.json\"\n",
    "\n",
    "    twitter_client = TwitterClient('pycon')\n",
    "    print(twitter_client.get_user_timeline_tweets(1))"
   ]
  },
  {
   "cell_type": "code",
   "execution_count": 9,
   "metadata": {},
   "outputs": [],
   "source": [
    "import numpy as np\n",
    "import pandas as pd"
   ]
  },
  {
   "cell_type": "code",
   "execution_count": 36,
   "metadata": {},
   "outputs": [],
   "source": [
    "class TweetAnalyzer():\n",
    "    \"\"\"\n",
    "    Functionality for analyzing and categorizing content from tweets.\n",
    "    \"\"\"\n",
    "    def tweets_to_data_frame(self, tweets):\n",
    "        df = pd.DataFrame(data=[tweet.text for tweet in tweets], columns=['Tweets'])\n",
    "\n",
    "        \n",
    "        df['date'] = np.array([tweet.created_at for tweet in tweets])\n",
    "        df['NumImages'] = np.array([len(tweet.entities['urls']) for tweet in tweets])\n",
    "        df['likes'] = np.array([tweet.favorite_count for tweet in tweets])\n",
    "        df['retweets'] = np.array([tweet.retweet_count for tweet in tweets])\n",
    "        \n",
    "        return df"
   ]
  },
  {
   "cell_type": "code",
   "execution_count": 37,
   "metadata": {},
   "outputs": [
    {
     "name": "stdout",
     "output_type": "stream",
     "text": [
      "                                              Tweets                date  \\\n",
      "0  RT @kdnuggets: Top 8 #Free Must-Read #Books on... 2019-04-06 17:11:29   \n",
      "1  @nupur_baghel @PennDATS Congratulation @nupur_... 2019-04-06 16:43:27   \n",
      "2  We have emailed the task details to all candid... 2019-04-05 16:08:37   \n",
      "3  RT @rfpvjr: Our NAACL paper on polarization in... 2019-04-05 04:05:11   \n",
      "4  RT @kdnuggets: Effective Transfer Learning For... 2019-04-05 04:04:43   \n",
      "5  RT @stanfordnlp: What’s new in @Stanford CS224... 2019-04-03 18:31:53   \n",
      "6  RT @DeepMindAI: Today we're releasing a large-... 2019-04-03 17:04:32   \n",
      "7  RT @ylecun: Congratulations Jitendra Malik !\\n... 2019-04-03 09:03:40   \n",
      "8  RT @IIITDelhi: Another chance to take admissio... 2019-04-03 07:46:02   \n",
      "9  Dear @midasIIITD internship candidates who hav... 2019-04-02 04:20:13   \n",
      "\n",
      "   NumImages  likes  retweets  \n",
      "0          1      0         2  \n",
      "1          1     10         3  \n",
      "2          1      8         1  \n",
      "3          1      0        16  \n",
      "4          1      0        10  \n",
      "5          0      0        57  \n",
      "6          0      0       844  \n",
      "7          1      0        16  \n",
      "8          0      0         4  \n",
      "9          1      8         1  \n"
     ]
    }
   ],
   "source": [
    "if __name__ == '__main__':\n",
    "\n",
    "    twitter_client = TwitterClient()\n",
    "    tweet_analyzer = TweetAnalyzer()\n",
    "\n",
    "    api = twitter_client.get_twitter_client_api()\n",
    "\n",
    "    tweets = api.user_timeline(screen_name=\"midasIIITD\", count=20)\n",
    "\n",
    "    #print(dir(tweets[0]))\n",
    "    #print(tweets[0].retweet_count)\n",
    "\n",
    "    df = tweet_analyzer.tweets_to_data_frame(tweets)\n",
    "    \n",
    "    print(df.head(10))"
   ]
  },
  {
   "cell_type": "code",
   "execution_count": 38,
   "metadata": {},
   "outputs": [],
   "source": [
    "df['NumImages'] = df['NumImages'].where(df['NumImages']!=0, None)"
   ]
  },
  {
   "cell_type": "code",
   "execution_count": 39,
   "metadata": {},
   "outputs": [
    {
     "data": {
      "text/html": [
       "<div>\n",
       "<style scoped>\n",
       "    .dataframe tbody tr th:only-of-type {\n",
       "        vertical-align: middle;\n",
       "    }\n",
       "\n",
       "    .dataframe tbody tr th {\n",
       "        vertical-align: top;\n",
       "    }\n",
       "\n",
       "    .dataframe thead th {\n",
       "        text-align: right;\n",
       "    }\n",
       "</style>\n",
       "<table border=\"1\" class=\"dataframe\">\n",
       "  <thead>\n",
       "    <tr style=\"text-align: right;\">\n",
       "      <th></th>\n",
       "      <th>Tweets</th>\n",
       "      <th>date</th>\n",
       "      <th>NumImages</th>\n",
       "      <th>likes</th>\n",
       "      <th>retweets</th>\n",
       "    </tr>\n",
       "  </thead>\n",
       "  <tbody>\n",
       "    <tr>\n",
       "      <th>0</th>\n",
       "      <td>RT @kdnuggets: Top 8 #Free Must-Read #Books on...</td>\n",
       "      <td>2019-04-06 17:11:29</td>\n",
       "      <td>1</td>\n",
       "      <td>0</td>\n",
       "      <td>2</td>\n",
       "    </tr>\n",
       "    <tr>\n",
       "      <th>1</th>\n",
       "      <td>@nupur_baghel @PennDATS Congratulation @nupur_...</td>\n",
       "      <td>2019-04-06 16:43:27</td>\n",
       "      <td>1</td>\n",
       "      <td>10</td>\n",
       "      <td>3</td>\n",
       "    </tr>\n",
       "    <tr>\n",
       "      <th>2</th>\n",
       "      <td>We have emailed the task details to all candid...</td>\n",
       "      <td>2019-04-05 16:08:37</td>\n",
       "      <td>1</td>\n",
       "      <td>8</td>\n",
       "      <td>1</td>\n",
       "    </tr>\n",
       "    <tr>\n",
       "      <th>3</th>\n",
       "      <td>RT @rfpvjr: Our NAACL paper on polarization in...</td>\n",
       "      <td>2019-04-05 04:05:11</td>\n",
       "      <td>1</td>\n",
       "      <td>0</td>\n",
       "      <td>16</td>\n",
       "    </tr>\n",
       "    <tr>\n",
       "      <th>4</th>\n",
       "      <td>RT @kdnuggets: Effective Transfer Learning For...</td>\n",
       "      <td>2019-04-05 04:04:43</td>\n",
       "      <td>1</td>\n",
       "      <td>0</td>\n",
       "      <td>10</td>\n",
       "    </tr>\n",
       "    <tr>\n",
       "      <th>5</th>\n",
       "      <td>RT @stanfordnlp: What’s new in @Stanford CS224...</td>\n",
       "      <td>2019-04-03 18:31:53</td>\n",
       "      <td>None</td>\n",
       "      <td>0</td>\n",
       "      <td>57</td>\n",
       "    </tr>\n",
       "    <tr>\n",
       "      <th>6</th>\n",
       "      <td>RT @DeepMindAI: Today we're releasing a large-...</td>\n",
       "      <td>2019-04-03 17:04:32</td>\n",
       "      <td>None</td>\n",
       "      <td>0</td>\n",
       "      <td>844</td>\n",
       "    </tr>\n",
       "    <tr>\n",
       "      <th>7</th>\n",
       "      <td>RT @ylecun: Congratulations Jitendra Malik !\\n...</td>\n",
       "      <td>2019-04-03 09:03:40</td>\n",
       "      <td>1</td>\n",
       "      <td>0</td>\n",
       "      <td>16</td>\n",
       "    </tr>\n",
       "    <tr>\n",
       "      <th>8</th>\n",
       "      <td>RT @IIITDelhi: Another chance to take admissio...</td>\n",
       "      <td>2019-04-03 07:46:02</td>\n",
       "      <td>None</td>\n",
       "      <td>0</td>\n",
       "      <td>4</td>\n",
       "    </tr>\n",
       "    <tr>\n",
       "      <th>9</th>\n",
       "      <td>Dear @midasIIITD internship candidates who hav...</td>\n",
       "      <td>2019-04-02 04:20:13</td>\n",
       "      <td>1</td>\n",
       "      <td>8</td>\n",
       "      <td>1</td>\n",
       "    </tr>\n",
       "  </tbody>\n",
       "</table>\n",
       "</div>"
      ],
      "text/plain": [
       "                                              Tweets                date  \\\n",
       "0  RT @kdnuggets: Top 8 #Free Must-Read #Books on... 2019-04-06 17:11:29   \n",
       "1  @nupur_baghel @PennDATS Congratulation @nupur_... 2019-04-06 16:43:27   \n",
       "2  We have emailed the task details to all candid... 2019-04-05 16:08:37   \n",
       "3  RT @rfpvjr: Our NAACL paper on polarization in... 2019-04-05 04:05:11   \n",
       "4  RT @kdnuggets: Effective Transfer Learning For... 2019-04-05 04:04:43   \n",
       "5  RT @stanfordnlp: What’s new in @Stanford CS224... 2019-04-03 18:31:53   \n",
       "6  RT @DeepMindAI: Today we're releasing a large-... 2019-04-03 17:04:32   \n",
       "7  RT @ylecun: Congratulations Jitendra Malik !\\n... 2019-04-03 09:03:40   \n",
       "8  RT @IIITDelhi: Another chance to take admissio... 2019-04-03 07:46:02   \n",
       "9  Dear @midasIIITD internship candidates who hav... 2019-04-02 04:20:13   \n",
       "\n",
       "  NumImages  likes  retweets  \n",
       "0         1      0         2  \n",
       "1         1     10         3  \n",
       "2         1      8         1  \n",
       "3         1      0        16  \n",
       "4         1      0        10  \n",
       "5      None      0        57  \n",
       "6      None      0       844  \n",
       "7         1      0        16  \n",
       "8      None      0         4  \n",
       "9         1      8         1  "
      ]
     },
     "execution_count": 39,
     "metadata": {},
     "output_type": "execute_result"
    }
   ],
   "source": [
    "df.head(10)"
   ]
  },
  {
   "cell_type": "code",
   "execution_count": 40,
   "metadata": {},
   "outputs": [
    {
     "data": {
      "text/plain": [
       "array([1, None, 2], dtype=object)"
      ]
     },
     "execution_count": 40,
     "metadata": {},
     "output_type": "execute_result"
    }
   ],
   "source": [
    "df['NumImages'].unique()"
   ]
  },
  {
   "cell_type": "code",
   "execution_count": null,
   "metadata": {},
   "outputs": [],
   "source": []
  }
 ],
 "metadata": {
  "kernelspec": {
   "display_name": "Python 3",
   "language": "python",
   "name": "python3"
  },
  "language_info": {
   "codemirror_mode": {
    "name": "ipython",
    "version": 3
   },
   "file_extension": ".py",
   "mimetype": "text/x-python",
   "name": "python",
   "nbconvert_exporter": "python",
   "pygments_lexer": "ipython3",
   "version": "3.6.4"
  }
 },
 "nbformat": 4,
 "nbformat_minor": 2
}
